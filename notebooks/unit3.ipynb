{
 "cells": [
  {
   "cell_type": "markdown",
   "metadata": {},
   "source": [
    "# Control Part 2 - Control / Loops"
   ]
  },
  {
   "cell_type": "markdown",
   "metadata": {},
   "source": [
    "Computers excel at performing repetitive tasks quickly. Loops allow you to execute a block of code multiple times without having to write it over and over. Python primarily provides two looping constructs: the for loop and the while loop. We’ll also discuss loop control statements like break and continue."
   ]
  },
  {
   "cell_type": "markdown",
   "metadata": {},
   "source": [
    "## For Loops\n",
    "\n",
    "A for loop is used for iterating over a sequence (such as a list, tuple, string, or range of numbers)​"
   ]
  },
  {
   "cell_type": "code",
   "execution_count": null,
   "metadata": {},
   "outputs": [],
   "source": [
    "for variable in sequence:\n",
    "    # code block using variable"
   ]
  },
  {
   "cell_type": "markdown",
   "metadata": {},
   "source": [
    "On each iteration, variable takes the next value from the sequence, and the loop body executes with that value. This continues until the sequence is exhausted. For example:"
   ]
  },
  {
   "cell_type": "code",
   "execution_count": 1,
   "metadata": {},
   "outputs": [
    {
     "name": "stdout",
     "output_type": "stream",
     "text": [
      "apple\n",
      "banana\n",
      "cherry\n"
     ]
    }
   ],
   "source": [
    "# Example 1: Iterate over a list\n",
    "fruits = [\"apple\", \"banana\", \"cherry\"]\n",
    "for fruit in fruits:\n",
    "    print(fruit)"
   ]
  },
  {
   "cell_type": "markdown",
   "metadata": {},
   "source": [
    "Here, the loop runs 3 times, and each time fruit is assigned the next item in the list. After the loop, fruit will remain as \"cherry\" (the last item) if you use it, but typically we use it just inside the loop. \n",
    "\n",
    "You can also loop over a string (strings are sequences of characters):\n"
   ]
  },
  {
   "cell_type": "code",
   "execution_count": null,
   "metadata": {},
   "outputs": [],
   "source": [
    "for ch in \"Python\":\n",
    "    print(ch)"
   ]
  },
  {
   "cell_type": "markdown",
   "metadata": {},
   "source": [
    "This will print each letter in \"Python\" on a new line. \n",
    "\n",
    "Often you'll want to loop a specific number of times. Python’s range() function is very handy for this. range(n) produces a sequence of numbers from 0 up to n-1. For example, range(5) is [0,1,2,3,4]. You can also specify a start, end, and even a step: range(start, end, step). A common pattern is:"
   ]
  },
  {
   "cell_type": "code",
   "execution_count": null,
   "metadata": {},
   "outputs": [],
   "source": [
    "for i in range(1, 6):\n",
    "    print(i)"
   ]
  },
  {
   "cell_type": "markdown",
   "metadata": {},
   "source": [
    "This will print numbers 1 through 5. range(1, 6) starts at 1 and goes up to 5 (end is 6, but it’s non-inclusive). If you want 1 to 5 inclusive, that’s the way. If you want 0 to 5 inclusive, range(0, 6) or simply range(6). "
   ]
  },
  {
   "cell_type": "markdown",
   "metadata": {},
   "source": [
    "## Advance For Loops\n",
    "\n",
    "The range function provides a sequence of integers, it takes 1, 2 or 3 arguments.\n",
    "\n",
    "range(4) # Provides a stop condition. It begins the iteration as 0, and stops when it hits 4, but doesn't include 4.\n",
    "\n",
    "range(1, 4) # 1 is the start, and 4 is the stop condition.\n",
    "\n",
    "range(4, 8, 2) # 4 is the starting number, 8 is the stop condition and 2 is the step."
   ]
  },
  {
   "cell_type": "code",
   "execution_count": null,
   "metadata": {},
   "outputs": [],
   "source": [
    "for count in range(4):\n",
    "    print(count)"
   ]
  },
  {
   "cell_type": "code",
   "execution_count": null,
   "metadata": {},
   "outputs": [],
   "source": [
    "for cnt in range(1, 8):\n",
    "    print(cnt)"
   ]
  },
  {
   "cell_type": "code",
   "execution_count": null,
   "metadata": {},
   "outputs": [],
   "source": [
    "for cnt in range(1, 8, 2):\n",
    "    print(cnt)"
   ]
  },
  {
   "cell_type": "markdown",
   "metadata": {},
   "source": [
    "## While Loops\n",
    "\n",
    "A while loop repeats as long as a certain condition remains true. It’s typically used when the number of iterations isn’t predetermined. Syntax:"
   ]
  },
  {
   "cell_type": "code",
   "execution_count": null,
   "metadata": {},
   "outputs": [],
   "source": [
    "while condition:\n",
    "    # code block to repeat"
   ]
  },
  {
   "cell_type": "markdown",
   "metadata": {},
   "source": [
    "Before each iteration, Python checks the condition. If it’s True, it executes the block and then goes back to check the condition again. This continues until the condition becomes False, at which point the loop stops. In other words, a while loop will execute a set of statements as long as a condition is true​"
   ]
  },
  {
   "cell_type": "code",
   "execution_count": null,
   "metadata": {},
   "outputs": [],
   "source": [
    "count = 1\n",
    "while count <= 5:\n",
    "    print(\"Count is\", count)\n",
    "    count += 1   # increment count"
   ]
  },
  {
   "cell_type": "markdown",
   "metadata": {},
   "source": [
    "Once count becomes 6, the condition count <= 5 fails and the loop ends. It’s crucial to update variables in the loop (like we did with count += 1) so that the loop eventually terminates; otherwise, you get an infinite loop (where the condition never becomes False). If your program appears to hang, you might have an infinite loop. Use Ctrl+C in a console or the stop button in an IDE to interrupt it."
   ]
  },
  {
   "cell_type": "markdown",
   "metadata": {},
   "source": [
    "**Practical loop scenarios:**\n",
    "- Iterating over items in a list (e.g., summing numbers, finding an item, filtering items).\n",
    "- Repeating an action until a condition is met (e.g., keep prompting a user for a correct password until they get it right).\n",
    "- Looping a fixed number of times (using range) for repetitive tasks (e.g., running a simulation 100 times)."
   ]
  },
  {
   "cell_type": "markdown",
   "metadata": {},
   "source": [
    "## Loop Control: break and continue\n",
    "\n",
    "Within a loop’s block, you can alter the loop’s behavior using break and continue.\n",
    "- break: Immediately exit the loop. The program jumps to the code after the loop.\n",
    "- continue: Skip the rest of the loop block for this iteration and move to the next iteration.\n",
    "\n",
    "Example using break:\n"
   ]
  },
  {
   "cell_type": "code",
   "execution_count": null,
   "metadata": {},
   "outputs": [],
   "source": [
    "for num in range(1, 11):\n",
    "    print(num)\n",
    "    if num == 5:\n",
    "        break"
   ]
  },
  {
   "cell_type": "markdown",
   "metadata": {},
   "source": [
    "This will print 1,2,3,4,5 and then stop, even though the range was 1 to 10. When num hits 5, the break executes and breaks out of the loop entirely. \n",
    "\n",
    "Example using continue:"
   ]
  },
  {
   "cell_type": "code",
   "execution_count": null,
   "metadata": {},
   "outputs": [],
   "source": [
    "for num in range(1, 6):\n",
    "    if num == 3:\n",
    "        continue\n",
    "    print(num)"
   ]
  },
  {
   "cell_type": "markdown",
   "metadata": {},
   "source": [
    "Here, when num is 3, the continue causes Python to skip the print(num) for that iteration. So 3 is not printed; the loop immediately moves to the next number. \n",
    "\n",
    "In while loops, break and continue work similarly: break will jump out of the while loop, and continue will jump back to the while condition check immediately. \n",
    "\n",
    "**Tip**: Use break and continue judiciously. Too many breaks/continues, especially nested, can make logic hard to follow. In simple loops, they can be very convenient (like breaking out of a search loop once you found what you need)."
   ]
  },
  {
   "cell_type": "markdown",
   "metadata": {},
   "source": [
    "# Mini Exercises"
   ]
  },
  {
   "cell_type": "markdown",
   "metadata": {},
   "source": [
    "Exercise 1: Write a for-loop that prints the squares of numbers from 1 to 10. (Output should be 1, 4, 9, ..., 100)."
   ]
  },
  {
   "cell_type": "markdown",
   "metadata": {},
   "source": [
    "Exercise 2: Use a while loop to continuously ask the user to input a password (use input() function). If the password is correct (choose a predefined string), print \"Access granted\" and break out of the loop; otherwise, print \"Try again\" and continue the loop."
   ]
  },
  {
   "cell_type": "markdown",
   "metadata": {},
   "source": [
    "Exercise 3: Write a loop that iterates through the characters in a string and counts how many vowels (a, e, i, o, u) are in the string. Print the count at the end. (Hint: you can use in to test membership, e.g. if ch in \"aeiou\": ...)"
   ]
  },
  {
   "cell_type": "markdown",
   "metadata": {},
   "source": [
    "## Challenge FizzBuzz\n",
    "\n",
    "A classic coding challenge  often asked in interviews is FizzBuzz. Loop through the numbers 1 to 20. For each number: if it’s divisible by 3, print “Fizz”; if divisible by 5, print “Buzz”; if divisible by both 3 and 5, print “FizzBuzz”; otherwise, just print the number. Try to implement this using either a for loop with range(1,21) or a while loop from 1 to 20. This challenge tests your understanding of loops and conditionals together."
   ]
  }
 ],
 "metadata": {
  "kernelspec": {
   "display_name": "Python 3",
   "language": "python",
   "name": "python3"
  },
  "language_info": {
   "codemirror_mode": {
    "name": "ipython",
    "version": 3
   },
   "file_extension": ".py",
   "mimetype": "text/x-python",
   "name": "python",
   "nbconvert_exporter": "python",
   "pygments_lexer": "ipython3",
   "version": "3.13.2"
  }
 },
 "nbformat": 4,
 "nbformat_minor": 2
}
