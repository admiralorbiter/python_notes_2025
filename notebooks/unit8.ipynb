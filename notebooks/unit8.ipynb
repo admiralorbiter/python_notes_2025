{
 "cells": [
  {
   "cell_type": "markdown",
   "metadata": {},
   "source": [
    "# Dictionaries and Sets\n",
    "\n",
    "## Dictionaries\n",
    "\n",
    "A dictionary (dict) is Python’s built-in mapping type, meaning it stores key-value pairs. It’s like a real dictionary: you look up a word (key) to get its definition (value). \n",
    "\n",
    "In programming terms, you use a key to retrieve an associated value. Think of a dictionary as an address book: keys are names, values are phone numbers (or other info). Or keys might be student IDs and values student records, etc. \n",
    "\n",
    "**Creating a Dictionary**: Use curly braces {} with key: value pairs inside, separated by commas:"
   ]
  },
  {
   "cell_type": "code",
   "execution_count": null,
   "metadata": {},
   "outputs": [],
   "source": [
    "# Example: English to Spanish word translations\n",
    "eng_to_sp = {\n",
    "    \"one\": \"uno\",\n",
    "    \"two\": \"dos\",\n",
    "    \"three\": \"tres\"\n",
    "}"
   ]
  },
  {
   "cell_type": "markdown",
   "metadata": {},
   "source": [
    "Keys and values can be of any type, but keys have to be immutable (e.g., numbers, strings, tuples; lists cannot be keys because they are mutable). \n",
    "\n",
    "In practice, keys are often strings or numbers. \n",
    "\n",
    "An empty dict is {}. You can also create a dict with the dict() constructor, but literal syntax is more common for hardcoded dictionaries. \n",
    "\n",
    "**Accessing/Modifying**: Use dict[key] to get the value associated with a key:"
   ]
  },
  {
   "cell_type": "code",
   "execution_count": null,
   "metadata": {},
   "outputs": [],
   "source": [
    "print(eng_to_sp[\"two\"])   # \"dos\""
   ]
  },
  {
   "cell_type": "markdown",
   "metadata": {},
   "source": [
    "If the key is not in the dict, Python raises a KeyError. You can add a new key by assignment:\n"
   ]
  },
  {
   "cell_type": "code",
   "execution_count": null,
   "metadata": {},
   "outputs": [],
   "source": [
    "eng_to_sp[\"four\"] = \"cuatro\"   # adds a new key-value pair"
   ]
  },
  {
   "cell_type": "markdown",
   "metadata": {},
   "source": [
    "If the key exists, assignment updates its value:"
   ]
  },
  {
   "cell_type": "code",
   "execution_count": null,
   "metadata": {},
   "outputs": [],
   "source": [
    "eng_to_sp[\"one\"] = \"UNO\"       # update value for key \"one\""
   ]
  },
  {
   "cell_type": "markdown",
   "metadata": {},
   "source": [
    "**Dictionary Properties**:\n",
    "\n",
    "- Key-value storage: Each entry has a key and a value.\n",
    "- Keys are unique: A dictionary cannot have duplicate keys. If you assign to the same key again, it will overwrite the previous value.\n",
    "- Not ordered (historically): In Python 3.7+, insertion order is preserved (implementation detail), but you should not rely on ordering when logically using a dict (think of it as unordered for generality). The main point is that you access elements by keys, not by position. (So no indexing like my_dict[0]; you use a key.)​\n",
    "- Mutable: You can add, remove, or change entries.\n",
    "- Dynamic size: Add/remove entries freely.\n",
    "\n",
    "**Common Dict Operations**:\n",
    "- len(dictionary): number of key-value pairs.\n",
    "- in: check if a key exists, e.g., if \"two\" in eng_to_sp:. This checks keys by default.\n",
    "- dict.keys(): returns a view of all keys (you can iterate over this or convert to list).\n",
    "- dict.values(): returns a view of all values.\n",
    "- dict.items(): returns a view of (key, value) pairs as tuples. Useful for loops.\n",
    "- get(key, default): returns the value for key, or a default (e.g., None or a specified value) if key not found. This is safer than using [] if you’re not sure key exists.\n",
    "- pop(key): remove a key and return its value.\n",
    "- clear(): remove all items.\n",
    "\n",
    "Examples:"
   ]
  },
  {
   "cell_type": "code",
   "execution_count": null,
   "metadata": {},
   "outputs": [],
   "source": [
    "person = {\"name\": \"Alice\", \"age\": 17, \"city\": \"New York\"}\n",
    "print(person[\"name\"])           # \"Alice\"\n",
    "person[\"age\"] = 18              # update age\n",
    "person[\"school\"] = \"High School\"  # add new key\n",
    "print(person.get(\"grade\", \"N/A\"))  # \"N/A\" since \"grade\" not in dict\n",
    "for key, value in person.items():\n",
    "    print(key, \"->\", value)"
   ]
  },
  {
   "cell_type": "markdown",
   "metadata": {},
   "source": [
    "**Use cases**: dictionaries are great when you want to quickly find a value by some identifier. The lookup by key is very efficient (average O(1) time complexity). For example:\n",
    "- Counting occurrences: keys are items, values are counts.\n",
    "- Caching/memoization: remember results for fast lookup later.\n",
    "- Any time you have a “lookup table” or mapping, like mapping student IDs to student data, product SKUs to product info, etc."
   ]
  },
  {
   "cell_type": "markdown",
   "metadata": {},
   "source": [
    "## Sets\n",
    "\n",
    "A set in Python is an unordered collection of unique elements​. It’s like a mathematical set: it can contain each item at most once, and the order is not important. Sets are great for membership testing and eliminating duplicates, as well as set operations like union, intersection, difference. \n",
    "\n",
    "**Creating Sets**: Use curly braces {} with comma-separated values, or the set() constructor. Important: to create an empty set, use set(), because {} makes an empty dict, not a set. \n",
    "\n",
    "Examples:"
   ]
  },
  {
   "cell_type": "code",
   "execution_count": null,
   "metadata": {},
   "outputs": [],
   "source": [
    "fruits = {\"apple\", \"banana\", \"cherry\"}\n",
    "nums = {1, 2, 3, 3, 2}\n",
    "print(nums)   # {1, 2, 3} duplicates automatically removed\n",
    "empty_set = set()"
   ]
  },
  {
   "cell_type": "markdown",
   "metadata": {},
   "source": [
    "A set’s elements must be immutable (like dict keys). So you can have numbers, strings, tuples as elements, but not lists or other sets. \n",
    "\n",
    "**Key Set Properties:**\n",
    "- Unordered: The set does not preserve insertion order (though CPython 3.7+ might show elements in insertion order, conceptually you should not rely on order)​. You cannot index or slice sets.\n",
    "- Unique elements: No duplicates. If you add an element that’s already in the set, nothing changes (it won’t add a duplicate).​\n",
    "- Mutable: You can add or remove elements.\n",
    "- Efficient membership test: Checking if something is in a set is on average O(1) – very fast, even for large sets.\n",
    "\n",
    "**Common Set Operations**:\n",
    "- len(set) for number of elements.\n",
    "- Membership: in and not in to test if an item is present.\n",
    "- add(element): add a single element.\n",
    "- remove(element): remove an element (if not present, raises KeyError). discard(element) is similar but does nothing if element not present (no error).\n",
    "- pop(): remove and return an arbitrary element (you don’t know which, since no order). Often not used unless you just want to grab and remove something, or empty the set.\n",
    "- clear(): empty the set.\n",
    "\n",
    "**Set Operations (like math)**:\n",
    "- set1.union(set2) or set1 | set2: returns a new set with all elements from both sets.\n",
    "- set1.intersection(set2) or set1 & set2: new set of elements common to both.\n",
    "- set1.difference(set2) or set1 - set2: elements in set1 but not in set2.\n",
    "- set1.symmetric_difference(set2) or set1 ^ set2: elements in either set1 or set2 but not both."
   ]
  },
  {
   "cell_type": "code",
   "execution_count": null,
   "metadata": {},
   "outputs": [],
   "source": [
    "A = {1, 2, 3, 4}\n",
    "B = {3, 4, 5}\n",
    "print(A.union(B))           # {1, 2, 3, 4, 5}\n",
    "print(A.intersection(B))    # {3, 4}\n",
    "print(A.difference(B))      # {1, 2} (in A but not in B)\n",
    "print(B.difference(A))      # {5} (in B but not in A)\n",
    "print(A ^ B)                # {1, 2, 5} (symmetric difference)"
   ]
  },
  {
   "cell_type": "markdown",
   "metadata": {},
   "source": [
    "Sets are often used to remove duplicates from a sequence:"
   ]
  },
  {
   "cell_type": "code",
   "execution_count": null,
   "metadata": {},
   "outputs": [],
   "source": [
    "names = [\"Alice\", \"Bob\", \"Alice\", \"Eve\", \"Bob\"]\n",
    "unique_names = set(names)\n",
    "print(unique_names)   # {'Alice', 'Eve', 'Bob'}"
   ]
  },
  {
   "cell_type": "markdown",
   "metadata": {},
   "source": [
    "If you need a list of unique items, you can then convert back to list: unique_list = list(set(names)). \n",
    "\n",
    "Another use: membership testing. If you have a large collection of items and you need to frequently check if something is in it, a set is much faster than a list for this purpose. \n",
    "\n",
    "Example: Suppose you have a list of stop words (common words to exclude) and you want to filter them out from text. If you have that list as a set, you can do:"
   ]
  },
  {
   "cell_type": "code",
   "execution_count": null,
   "metadata": {},
   "outputs": [],
   "source": [
    "stopwords = {\"the\", \"a\", \"an\", \"and\", \"or\", \"to\", \"is\"}\n",
    "word = \"and\"\n",
    "if word in stopwords:\n",
    "    print(\"Skipping stopword\")"
   ]
  },
  {
   "cell_type": "markdown",
   "metadata": {},
   "source": [
    "This check is very quick even if stopwords has thousands of entries. \n",
    "\n",
    "**Sets vs Lists**: Use a set when: you need uniqueness (automatically avoid duplicates), or you need to test membership frequently and performance matters, or you want to do set algebra operations. Use a list when you need to maintain order or allow duplicates, or need to index elements by position."
   ]
  },
  {
   "cell_type": "markdown",
   "metadata": {},
   "source": [
    "## Exercises:\n",
    "Exercise 1: Create a dictionary phonebook with a few name -> number mappings (e.g., \"Alice\": \"123-4567\", etc.). Print Alice’s phone number by looking it up in the dict. Then add a new entry, and update an existing entry’s number. Print all the names (keys) in the phonebook.\n",
    "\n",
    "Exercise 2: Write a small dictionary squares that maps numbers 1-5 to their squares (i.e., {1:1, 2:4, ... 5:25}). Then given a number from input, print its square using the dictionary (handle if the number isn’t in the dictionary by printing a message).\n",
    "\n",
    "Exercise 3: Use a loop to invert a dictionary. For example, if you have d = {\"a\":1, \"b\":2, \"c\":2}, create a new dict where the values become keys and keys become values. For the example, the result could be {1: [\"a\"], 2: [\"b\", \"c\"]} (since both \"b\" and \"c\" had value 2, they become a list of keys for 2). This is a bit tricky but helps to understand dict iteration.\n",
    "\n",
    "Exercise 4: Create a set of your favorite fruits, e.g. my_fruits = {\"apple\", \"banana\", \"cherry\"}. Then create another set tropical_fruits = {\"banana\", \"mango\", \"papaya\"}. Compute the intersection and union of these sets and print them. Then check if \"apple\" is in tropical_fruits (it’s not) and if \"mango\" is in my_fruits.\n",
    "\n",
    "Exercise 5: Take a list with duplicate elements, e.g. vals = [3, 5, 3, 2, 5, 5, 1]. Use a set to get unique elements and print them. Then sort that unique list and print it. (The unique sorted output for this example should be [1, 2, 3, 5].)\n",
    "\n",
    "Exercise 6: (Challenge) Write a program that reads a text file and prints all the unique words in the file, sorted alphabetically. Use a set to collect unique words. (You can ignore punctuation by maybe using string .split() which splits on whitespace, though that will keep punctuation attached to words; for a simple approach, you might just strip punctuation from words or use regex if you know.)"
   ]
  }
 ],
 "metadata": {
  "language_info": {
   "name": "python"
  }
 },
 "nbformat": 4,
 "nbformat_minor": 2
}
