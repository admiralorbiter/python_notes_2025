{
 "cells": [
  {
   "cell_type": "markdown",
   "metadata": {},
   "source": [
    "# Files and Exceptions\n",
    "\n",
    "So far, our programs run and then end, and any data they produce is output to the screen. What if we want to save data, or read input from a source other than the user typing on the keyboard? That’s where file I/O (input/output) comes in – it allows your program to persist data by reading from or writing to files on disk. Additionally, when dealing with files (or any operation that can go wrong), we need to handle exceptions (errors) gracefully so our program doesn’t just crash.\n",
    "\n",
    "\n",
    "## File Input/Output (I/O)\n",
    "\n",
    "Python makes it straightforward to work with files using the built-in open() function. To work with a file, you typically:\n",
    "\n",
    "1. Open the file (which gives you a file object),\n",
    "2. Read from or write to the file via that object,\n",
    "3. Close the file when done (to free resources).\n",
    "\n",
    "The open() function syntax is: open(filename, mode). Mode is a string like \"r\" for read, \"w\" for write (which will overwrite the file if it exists, or create a new one), \"a\" for append (add to end of file), and others (like `\"r+\" for read/write, \"b\" for binary mode, etc.). \n",
    "\n",
    "The function returns a file object. For example, to open and read a file:\n",
    "- f is the file object\n",
    "    - it's not a string, but we can use it to read over the file\n",
    "    - it is a variable we can name it anything we want\n",
    "- open is a built in function\n",
    "- \"data.txt\" is the name of the file to opne, it **must** be a string\n",
    "    - you can pass a variable with the file name"
   ]
  },
  {
   "cell_type": "code",
   "execution_count": 2,
   "metadata": {},
   "outputs": [
    {
     "ename": "FileNotFoundError",
     "evalue": "[Errno 2] No such file or directory: 'data.txt'",
     "output_type": "error",
     "traceback": [
      "\u001b[31m---------------------------------------------------------------------------\u001b[39m",
      "\u001b[31mFileNotFoundError\u001b[39m                         Traceback (most recent call last)",
      "\u001b[36mCell\u001b[39m\u001b[36m \u001b[39m\u001b[32mIn[2]\u001b[39m\u001b[32m, line 1\u001b[39m\n\u001b[32m----> \u001b[39m\u001b[32m1\u001b[39m f = \u001b[38;5;28;43mopen\u001b[39;49m\u001b[43m(\u001b[49m\u001b[33;43m\"\u001b[39;49m\u001b[33;43mdata.txt\u001b[39;49m\u001b[33;43m\"\u001b[39;49m\u001b[43m,\u001b[49m\u001b[43m \u001b[49m\u001b[33;43m\"\u001b[39;49m\u001b[33;43mr\u001b[39;49m\u001b[33;43m\"\u001b[39;49m\u001b[43m)\u001b[49m   \u001b[38;5;66;03m# open data.txt for reading\u001b[39;00m\n\u001b[32m      2\u001b[39m content = f.read()          \u001b[38;5;66;03m# read the entire file into a string\u001b[39;00m\n\u001b[32m      3\u001b[39m f.close()                   \u001b[38;5;66;03m# close the file\u001b[39;00m\n",
      "\u001b[36mFile \u001b[39m\u001b[32m~\\AppData\\Roaming\\Python\\Python312\\site-packages\\IPython\\core\\interactiveshell.py:325\u001b[39m, in \u001b[36m_modified_open\u001b[39m\u001b[34m(file, *args, **kwargs)\u001b[39m\n\u001b[32m    318\u001b[39m \u001b[38;5;28;01mif\u001b[39;00m file \u001b[38;5;129;01min\u001b[39;00m {\u001b[32m0\u001b[39m, \u001b[32m1\u001b[39m, \u001b[32m2\u001b[39m}:\n\u001b[32m    319\u001b[39m     \u001b[38;5;28;01mraise\u001b[39;00m \u001b[38;5;167;01mValueError\u001b[39;00m(\n\u001b[32m    320\u001b[39m         \u001b[33mf\u001b[39m\u001b[33m\"\u001b[39m\u001b[33mIPython won\u001b[39m\u001b[33m'\u001b[39m\u001b[33mt let you open fd=\u001b[39m\u001b[38;5;132;01m{\u001b[39;00mfile\u001b[38;5;132;01m}\u001b[39;00m\u001b[33m by default \u001b[39m\u001b[33m\"\u001b[39m\n\u001b[32m    321\u001b[39m         \u001b[33m\"\u001b[39m\u001b[33mas it is likely to crash IPython. If you know what you are doing, \u001b[39m\u001b[33m\"\u001b[39m\n\u001b[32m    322\u001b[39m         \u001b[33m\"\u001b[39m\u001b[33myou can use builtins\u001b[39m\u001b[33m'\u001b[39m\u001b[33m open.\u001b[39m\u001b[33m\"\u001b[39m\n\u001b[32m    323\u001b[39m     )\n\u001b[32m--> \u001b[39m\u001b[32m325\u001b[39m \u001b[38;5;28;01mreturn\u001b[39;00m \u001b[43mio_open\u001b[49m\u001b[43m(\u001b[49m\u001b[43mfile\u001b[49m\u001b[43m,\u001b[49m\u001b[43m \u001b[49m\u001b[43m*\u001b[49m\u001b[43margs\u001b[49m\u001b[43m,\u001b[49m\u001b[43m \u001b[49m\u001b[43m*\u001b[49m\u001b[43m*\u001b[49m\u001b[43mkwargs\u001b[49m\u001b[43m)\u001b[49m\n",
      "\u001b[31mFileNotFoundError\u001b[39m: [Errno 2] No such file or directory: 'data.txt'"
     ]
    }
   ],
   "source": [
    "f = open(\"data.txt\", \"r\")   # open data.txt for reading\n",
    "content = f.read()          # read the entire file into a string\n",
    "f.close()                   # close the file\n",
    "print(content)"
   ]
  },
  {
   "cell_type": "markdown",
   "metadata": {},
   "source": [
    "**Note:** If you try to run this code you will get an error due to the fact there isn't a file attachd in this enviroment. You will need to setup and create a text file. "
   ]
  },
  {
   "cell_type": "markdown",
   "metadata": {},
   "source": [
    "It’s crucial to close the file after you’re done, or better yet use a context manager which does it automatically (using the with statement, shown shortly). f.read() with no arguments reads the whole file. \n",
    "\n",
    "You can also do f.readline() to read one line at a time (each call gives the next line, including the newline \\n at the end of the line), or iterate through the file in a for-loop which gives each line. For example:"
   ]
  },
  {
   "cell_type": "code",
   "execution_count": null,
   "metadata": {},
   "outputs": [],
   "source": [
    "f = open(\"data.txt\", \"r\")\n",
    "for line in f:\n",
    "    line = line.strip()    # remove trailing newline and spaces\n",
    "    print(line)\n",
    "f.close()"
   ]
  },
  {
   "cell_type": "markdown",
   "metadata": {},
   "source": [
    "This will print the file line by line. The for line in f construct is a pythonic way to iterate over each line. \n",
    "\n",
    "To write to a file:"
   ]
  },
  {
   "cell_type": "code",
   "execution_count": 3,
   "metadata": {},
   "outputs": [],
   "source": [
    "f = open(\"output.txt\", \"w\")\n",
    "f.write(\"Hello, file!\\n\")\n",
    "f.write(\"This is a second line.\\n\")\n",
    "f.close()"
   ]
  },
  {
   "cell_type": "markdown",
   "metadata": {},
   "source": [
    "If \"output.txt\" didn’t exist, it will be created. If it did exist, opening in \"w\" mode truncates it (empties it first). If you want to add to an existing file without erasing it, use mode \"a\":"
   ]
  },
  {
   "cell_type": "code",
   "execution_count": null,
   "metadata": {},
   "outputs": [],
   "source": [
    "f = open(\"output.txt\", \"a\")\n",
    "f.write(\"Appended line.\\n\")\n",
    "f.close()"
   ]
  },
  {
   "cell_type": "markdown",
   "metadata": {},
   "source": [
    "Using with for Files (Context Manager):\n",
    "\n",
    "It’s easy to forget to close a file or have a program crash before closing, leading to a file left open. Python provides a convenient with statement to handle this.\n"
   ]
  },
  {
   "cell_type": "code",
   "execution_count": null,
   "metadata": {},
   "outputs": [],
   "source": [
    "with open(\"data.txt\", \"r\") as f:\n",
    "    content = f.read()\n",
    "# file is automatically closed when leaving the with-block"
   ]
  },
  {
   "cell_type": "markdown",
   "metadata": {},
   "source": [
    "Inside the with block, use f as usual. When the block exits (whether normally or due to an error), Python ensures f.close() is called. It’s best practice to open files using with whenever possible. \n",
    "\n",
    "**Paths**: If the file is in the same directory as your script, you can just use the filename. Otherwise, you may need to specify a path (e.g., \"C:/Users/Me/Documents/data.txt\" on Windows or \"/home/me/data.txt\" on Linux/Mac). Use forward slashes or double backslashes in paths on Windows (or raw strings like r\"C:\\path\\to\\file.txt\" to avoid issues with backslashes). \n",
    "\n",
    "**Example – Reading and processing:** \n",
    "\n",
    "Suppose we have a text file \"numbers.txt\" that contains one number per line. We want to read the file and compute the sum of all numbers. We can do:"
   ]
  },
  {
   "cell_type": "code",
   "execution_count": null,
   "metadata": {},
   "outputs": [],
   "source": [
    "total = 0\n",
    "with open(\"numbers.txt\", \"r\") as f:\n",
    "    for line in f:\n",
    "        line = line.strip()\n",
    "        if line == \"\":\n",
    "            continue  # skip empty lines\n",
    "        num = float(line)  # or int(line) depending on if they are ints or floats\n",
    "        total += num\n",
    "print(\"Sum is\", total)"
   ]
  },
  {
   "cell_type": "markdown",
   "metadata": {},
   "source": [
    "This reads each line, strips whitespace, skips any blank lines, converts the line to a number, and adds to total. Note: We used float(line) here to handle possibly decimal numbers. If you know they are integers, use int(line). "
   ]
  },
  {
   "cell_type": "markdown",
   "metadata": {},
   "source": [
    "## Other Methods of Reading\n",
    "\n",
    "- .readline() - Reads a single line in as a string\n",
    "- .readlines() - Reads in the file as a list of strings\n",
    "- .read() - Reads the file into a string\n",
    "- .seek() - Seeks a position in the file.\n",
    "- .write() - Writes out bytes to the file ( has to be a string, and does not automatically put a newline )\n",
    "- .writelines() - Writes out a list of strings as separate lines to the file"
   ]
  },
  {
   "cell_type": "code",
   "execution_count": null,
   "metadata": {},
   "outputs": [],
   "source": [
    "file_handle = open('test.txt', 'r')\n",
    "\n",
    "line = file_handle.readline()\n",
    "print(line)\n",
    "\n",
    "line = file_handle.readline()\n",
    "print(line)  \n",
    "file_handle.close()  # Always close the file after use."
   ]
  },
  {
   "cell_type": "code",
   "execution_count": null,
   "metadata": {},
   "outputs": [],
   "source": [
    "# Readline\n",
    "file_handle = open('test.txt', 'r')\n",
    "\n",
    "lines = file_handle.readlines()\n",
    "\n",
    "file_handle.close()  # Always close the file after use.\n",
    "\n",
    "print(type(lines))\n",
    "print(lines)"
   ]
  },
  {
   "cell_type": "code",
   "execution_count": null,
   "metadata": {},
   "outputs": [],
   "source": [
    "file_handle = open('test.txt', 'r')\n",
    "\n",
    "file = file_handle.read()\n",
    "\n",
    "file_handle.close()  # Always close the file after use.\n",
    "\n",
    "print(type(file))\n",
    "print(file)"
   ]
  },
  {
   "cell_type": "code",
   "execution_count": null,
   "metadata": {},
   "outputs": [],
   "source": [
    "# Reading in only a given # of bytes\n",
    "file_handle = open('test.txt', 'r')\n",
    "\n",
    "file = file_handle.read(10)\n",
    "\n",
    "file_handle.close()  # Always close the file after use.\n",
    "\n",
    "print(type(file))\n",
    "print(file)"
   ]
  },
  {
   "cell_type": "markdown",
   "metadata": {},
   "source": [
    "**Example – Writing**: \n",
    "\n",
    "Creating a simple data file. Let’s say we want to write the squares of 1 to 10 to a file:"
   ]
  },
  {
   "cell_type": "code",
   "execution_count": null,
   "metadata": {},
   "outputs": [],
   "source": [
    "with open(\"squares.txt\", \"w\") as f:\n",
    "    for i in range(1, 11):\n",
    "        f.write(f\"{i} squared is {i**2}\\n\")"
   ]
  },
  {
   "cell_type": "markdown",
   "metadata": {},
   "source": [
    "Now \"squares.txt\" will have 10 lines, e.g., \"1 squared is 1\", \"2 squared is 4\", etc. \n",
    "\n",
    "**Common Pitfalls**: Always make sure the mode is correct. If you try to read a file that doesn’t exist, Python will raise an error. If you open in write mode and the file exists, you’ll lose its contents. If you forget to close a file, it might still work, but it’s not guaranteed the data is flushed to disk until closed."
   ]
  },
  {
   "cell_type": "markdown",
   "metadata": {},
   "source": [
    "## Exceptions and Error Handling\n",
    "\n",
    "An exception is a runtime error that can cause your program to stop if not handled. For example, trying to open a non-existent file causes a FileNotFoundError. Dividing by zero raises a ZeroDivisionError. Accessing an undefined variable raises a NameError. Instead of letting these errors crash the program, we can catch exceptions and handle them gracefully using try/except blocks. \n",
    "\n",
    "**Basic try/except**:"
   ]
  },
  {
   "cell_type": "code",
   "execution_count": null,
   "metadata": {},
   "outputs": [],
   "source": [
    "try:\n",
    "    # code that might throw an exception\n",
    "except SomeErrorType:\n",
    "    # handle the error"
   ]
  },
  {
   "cell_type": "markdown",
   "metadata": {},
   "source": [
    "If the code in the try block runs without error, the except block is skipped. If an error of the specified type occurs, execution jumps to the except block. You can catch specific exceptions by name, or use a bare except: to catch any exception (though catching too generally can sometimes hide bugs you didn’t anticipate).\n",
    "\n",
    "**Example:**"
   ]
  },
  {
   "cell_type": "code",
   "execution_count": null,
   "metadata": {},
   "outputs": [],
   "source": [
    "try:\n",
    "    f = open(\"data.txt\", \"r\")\n",
    "    content = f.read()\n",
    "    f.close()\n",
    "except FileNotFoundError:\n",
    "    print(\"Error: The file was not found.\")"
   ]
  },
  {
   "cell_type": "markdown",
   "metadata": {},
   "source": [
    "In this case, if \"data.txt\" doesn’t exist, the program won’t crash with a traceback – instead, it will print the message in the except block and continue. If the file exists, the except block is skipped. \n",
    "\n",
    "You can have multiple except blocks to handle different errors differently:"
   ]
  },
  {
   "cell_type": "code",
   "execution_count": null,
   "metadata": {},
   "outputs": [],
   "source": [
    "try:\n",
    "    x = int(input(\"Enter an integer: \"))\n",
    "    result = 100 / x\n",
    "    print(\"100/x is\", result)\n",
    "except ValueError:\n",
    "    print(\"That's not an integer! Please run the program again.\")\n",
    "except ZeroDivisionError:\n",
    "    print(\"Cannot divide by zero.\")"
   ]
  },
  {
   "cell_type": "markdown",
   "metadata": {},
   "source": [
    "Here we handle two possible issues: the input might not convert to int (ValueError), or the user might enter 0 leading to division by zero (ZeroDivisionError). Each except addresses one. \n",
    "\n",
    "**The finally clause**: There’s also an optional finally block in a try/except that will execute no matter what – whether an exception occurred or not, and regardless of whether it was caught. This is often used for cleanup actions (like ensuring a file is closed). For example:"
   ]
  },
  {
   "cell_type": "code",
   "execution_count": null,
   "metadata": {},
   "outputs": [],
   "source": [
    "f = None\n",
    "try:\n",
    "    f = open(\"data.txt\")\n",
    "    # process file\n",
    "except FileNotFoundError:\n",
    "    print(\"File not found.\")\n",
    "finally:\n",
    "    if f:\n",
    "        f.close()"
   ]
  },
  {
   "cell_type": "markdown",
   "metadata": {},
   "source": [
    "However, using with for files as shown earlier often makes the finally unnecessary for file closing. \n",
    "\n",
    "**Raising Exceptions**: You can deliberately raise an exception using the raise statement if you detect an error condition in your code and want to handle it at a higher level. For example:"
   ]
  },
  {
   "cell_type": "code",
   "execution_count": null,
   "metadata": {},
   "outputs": [],
   "source": [
    "def withdraw_money(balance, amount):\n",
    "    if amount > balance:\n",
    "        raise ValueError(\"Insufficient funds\")\n",
    "    balance -= amount\n",
    "    return balance"
   ]
  },
  {
   "cell_type": "markdown",
   "metadata": {},
   "source": [
    "If someone tries to withdraw more than the balance, we raise a ValueError. The calling code could catch this and handle it (e.g., alert the user). \n",
    "\n",
    "**Debugging common errors**: As a beginner, you will frequently run into exceptions like:\n",
    "- NameError (you used a variable that isn’t defined or spelled it incorrectly),\n",
    "- TypeError (you did an operation on incompatible types, e.g., adding a string and a number),\n",
    "- IndexError (list or string index out of range),\n",
    "- IndentationError (your code’s indentation is off – Python is picky about that),\n",
    "- SyntaxError (general code syntax issue, like missing a colon or parenthesis).\n",
    "\n",
    "Don’t panic when you see a traceback (error message). Read it: it tells you the type of error and often a line number where it happened. Use that information to fix the issue. Learning to interpret error messages is an important skill. Python’s errors are usually quite descriptive. \n",
    "\n",
    "**Practical tasks using files and exceptions**:\n",
    "\n",
    "- Reading configuration or data files for your program instead of hardcoding values.\n",
    "- Writing logs or output to a file so it persists after the program ends.\n",
    "- Handling bad user input: for example, wrapping int(input()) in try/except to handle if the user types something that isn’t a number, and prompting again.\n",
    "\n"
   ]
  },
  {
   "cell_type": "markdown",
   "metadata": {},
   "source": [
    "# Exercises\n",
    "\n",
    "## Exercise 1: \n",
    "\n",
    "Create a text file named \"hello.txt\" with a few lines of text (you can do this outside of Python, using a text editor). Write a Python snippet to open this file, read and print its contents line by line with line numbers in front (e.g., \"1: first line\"). Make sure to handle the file not found error gracefully using try/except (e.g., print a friendly message if the file isn’t found).\n",
    "\n",
    "\n",
    "## Exercise 2: \n",
    "\n",
    "Write a program that asks the user for a filename and attempts to open that file. If the file exists, print “File found, contents are:” and then print the contents. If the file does not exist, catch the exception and print “Sorry, that file does not exist.” Use a finally block (or with statement) to ensure the file is closed if it was opened.\n",
    "\n",
    "\n",
    "## Exercise 3: \n",
    "\n",
    "Suppose you have a file \"numbers.txt\" with one number per line (as described earlier). Write a program to read this file and calculate the average of the numbers. If the file cannot be opened, handle the exception. If a line in the file isn’t a valid number (could raise a ValueError when converting), catch that exception too, perhaps skipping that line and continuing.\n",
    "\n",
    "\n",
    "## Exercise 4: \n",
    "\n",
    "(Thought exercise) Why is it important to handle exceptions? Describe a scenario in a real application where not handling an exception could lead to a bad user experience or a crash. For example, reading from a file that might not exist – what could go wrong and how would you mitigate it?"
   ]
  },
  {
   "cell_type": "markdown",
   "metadata": {},
   "source": [
    "# Debugging Practice: \n",
    "\n",
    "As an additional practice, purposely introduce a bug or two in a small program and see what error comes up. For instance, try to open a file that isn’t there, or do int(\"abc\"), or forget a parenthesis. Look at the error message and understand it. This will make you more comfortable when you see real errors. \n",
    "\n",
    "By now, we have covered how to get input from the user (via input() in some exercises), output to the screen (print), and now read/write files. We’ve also covered safeguarding our code with exception handling. Next, we’ll move into some data structures (lists, tuples, dictionaries, sets) which are essential for organizing data in programs."
   ]
  }
 ],
 "metadata": {
  "kernelspec": {
   "display_name": "Python 3",
   "language": "python",
   "name": "python3"
  },
  "language_info": {
   "codemirror_mode": {
    "name": "ipython",
    "version": 3
   },
   "file_extension": ".py",
   "mimetype": "text/x-python",
   "name": "python",
   "nbconvert_exporter": "python",
   "pygments_lexer": "ipython3",
   "version": "3.12.5"
  }
 },
 "nbformat": 4,
 "nbformat_minor": 2
}
