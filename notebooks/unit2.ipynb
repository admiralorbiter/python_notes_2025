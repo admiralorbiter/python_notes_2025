{
 "cells": [
  {
   "cell_type": "markdown",
   "metadata": {},
   "source": [
    "# Control Part 1 - Selection / Branching"
   ]
  },
  {
   "cell_type": "markdown",
   "metadata": {},
   "source": [
    "Now that we can use variables and expressions, let’s explore data types in Python and how to make decisions in code using branching (if/else statements). Built-in Data Types: Python has several basic data types:\n",
    "- Integers (int): Whole numbers, e.g. 42 or -5.\n",
    "- Floating-point numbers (float): Decimal numbers, e.g. 3.14 or 0.5.\n",
    "- Booleans (bool): True/False values. There are exactly two boolean values: True and False (note - the capital T/F). Booleans often result from comparisons or logical operations.\n",
    "- Strings (str): Text sequences enclosed in quotes, e.g. \"hello\" or 'Python 3'. Strings are a sequence of characters."
   ]
  },
  {
   "cell_type": "code",
   "execution_count": 2,
   "metadata": {},
   "outputs": [
    {
     "name": "stdout",
     "output_type": "stream",
     "text": [
      "<class 'int'>\n",
      "<class 'float'>\n",
      "<class 'bool'>\n",
      "<class 'str'>\n"
     ]
    }
   ],
   "source": [
    "x = 5\n",
    "y = 3.14\n",
    "z = True\n",
    "s = \"Hello\"\n",
    "print(type(x))\n",
    "print(type(y))\n",
    "print(type(z))\n",
    "print(type(s))"
   ]
  },
  {
   "cell_type": "markdown",
   "metadata": {},
   "source": [
    "## Comparison and Logical Operators\n",
    "Often we need to compare values. Python’s comparison operators include == (equals), != (not equals), > (greater than), < (less than), >= (greater or equal), <= (less or equal). These comparisons yield boolean results (True or False). For example:"
   ]
  },
  {
   "cell_type": "code",
   "execution_count": 3,
   "metadata": {},
   "outputs": [
    {
     "name": "stdout",
     "output_type": "stream",
     "text": [
      "True\n",
      "False\n",
      "True\n"
     ]
    }
   ],
   "source": [
    "x = 10\n",
    "print(x == 10)   # True\n",
    "print(x < 5)     # False\n",
    "print(x != 7)    # True\n"
   ]
  },
  {
   "cell_type": "markdown",
   "metadata": {},
   "source": [
    "We also have logical operators to combine boolean conditions: and, or, and not.\n",
    "- and gives True if both conditions are True.\n",
    "- or gives True if at least one condition is True.\n",
    "- not inverts a boolean value (True becomes False, False becomes True).\n"
   ]
  },
  {
   "cell_type": "code",
   "execution_count": 4,
   "metadata": {},
   "outputs": [
    {
     "name": "stdout",
     "output_type": "stream",
     "text": [
      "True\n",
      "False\n",
      "True\n",
      "False\n"
     ]
    }
   ],
   "source": [
    "a = 5\n",
    "b = 8\n",
    "print(a > 0 and b > 0)    # True (both a and b are > 0)\n",
    "print(a > 0 and b < 0)    # False (b < 0 is False)\n",
    "print(a > 0 or b < 0)     # True (at least one condition is True)\n",
    "print(not (a > 0))        # False (a > 0 is True, not True is False)"
   ]
  },
  {
   "cell_type": "markdown",
   "metadata": {},
   "source": [
    "## Branching with if/elif/else:\n",
    "\n",
    "Branching allows your program to make decisions and execute certain code only when certain conditions are met. In Python, the if statement is used for this purpose. The syntax is:"
   ]
  },
  {
   "cell_type": "code",
   "execution_count": 5,
   "metadata": {},
   "outputs": [
    {
     "ename": "IndentationError",
     "evalue": "expected an indented block after 'if' statement on line 1 (1108717872.py, line 3)",
     "output_type": "error",
     "traceback": [
      "  \u001b[36mCell\u001b[39m\u001b[36m \u001b[39m\u001b[32mIn[5]\u001b[39m\u001b[32m, line 3\u001b[39m\n\u001b[31m    \u001b[39m\u001b[31melif other_condition:\u001b[39m\n    ^\n\u001b[31mIndentationError\u001b[39m\u001b[31m:\u001b[39m expected an indented block after 'if' statement on line 1\n"
     ]
    }
   ],
   "source": [
    "if condition:\n",
    "    # code block executed if condition is True\n",
    "elif other_condition:\n",
    "    # code block if the first condition was False but this one is True\n",
    "else:\n",
    "    # code block if all above conditions are False"
   ]
  },
  {
   "cell_type": "markdown",
   "metadata": {},
   "source": [
    "The elif (else-if) and else parts are optional. You can have just a simple if, or an if with multiple elif branches, and an optional final else. Important: Python uses indentation (leading spaces) to mark the blocks of code under each branch. Typically we indent with 4 spaces (or a tab, but spaces are recommended for consistency). All code indented under an if will run if that condition is true."
   ]
  },
  {
   "cell_type": "markdown",
   "metadata": {},
   "source": [
    "Example of an if/else:\n"
   ]
  },
  {
   "cell_type": "code",
   "execution_count": null,
   "metadata": {},
   "outputs": [],
   "source": [
    "temperature = 30\n",
    "if temperature > 25:\n",
    "    print(\"It's warm outside.\")\n",
    "else:\n",
    "    print(\"It's cold outside.\")\n"
   ]
  },
  {
   "cell_type": "markdown",
   "metadata": {},
   "source": [
    "In this example, since temperature is 30, the condition temperature > 25 is True, so the first print executes and the else block is skipped. If temperature were, say, 20, the condition would be False and the else block’s message would print instead. In an if/else structure, only one of the two blocks will execute – never both (the if condition is either true or false, no other possibility)​"
   ]
  },
  {
   "cell_type": "markdown",
   "metadata": {},
   "source": [
    "Let’s see a slightly more complex decision using elif:\n"
   ]
  },
  {
   "cell_type": "code",
   "execution_count": null,
   "metadata": {},
   "outputs": [],
   "source": [
    "score = 85\n",
    "if score >= 90:\n",
    "    grade = \"A\"\n",
    "elif score >= 80:\n",
    "    grade = \"B\"\n",
    "elif score >= 70:\n",
    "    grade = \"C\"\n",
    "else:\n",
    "    grade = \"F\"\n",
    "print(\"Grade:\", grade)"
   ]
  },
  {
   "cell_type": "markdown",
   "metadata": {},
   "source": [
    "Here the program checks each condition in order. If one condition is True, it executes that block and skips the rest. In the example, score >= 80 is True (since 85 >= 80), so grade gets \"B\". The subsequent conditions are not checked once a match was found. Try changing score to different values to see how the output changes. "
   ]
  },
  {
   "cell_type": "markdown",
   "metadata": {},
   "source": [
    "\n",
    "## Nested Conditions: \n",
    "\n",
    "You can put an if inside another if (this is called nesting) for more complex logic, though it can make code harder to read if overused. Often you can use logical operators to combine conditions instead of nesting deeply."
   ]
  },
  {
   "cell_type": "markdown",
   "metadata": {},
   "source": [
    "# Mini Exercises"
   ]
  },
  {
   "cell_type": "markdown",
   "metadata": {},
   "source": [
    "Exercise 1: Write a program that asks the user for a number and stores it in n. Then use an if statement to print whether n is positive, negative, or zero. (Hint: You will need if, elif, and else.)"
   ]
  },
  {
   "cell_type": "markdown",
   "metadata": {},
   "source": [
    "Exercise 2: Create two variables a and b. Assign them any numbers. Write code to compare them and print out which one is larger, or if they are equal."
   ]
  },
  {
   "cell_type": "markdown",
   "metadata": {},
   "source": [
    "Exercise 3: Imagine a simple game where a player’s level (an integer) determines their title: level 1-3 is “Beginner”, 4-6 is “Intermediate”, 7-9 is “Advanced”, anything 10 or above is “Expert”. Write an if/elif chain that prints the correct title for a given level variable. Test it with several values.\n"
   ]
  }
 ],
 "metadata": {
  "kernelspec": {
   "display_name": "Python 3",
   "language": "python",
   "name": "python3"
  },
  "language_info": {
   "codemirror_mode": {
    "name": "ipython",
    "version": 3
   },
   "file_extension": ".py",
   "mimetype": "text/x-python",
   "name": "python",
   "nbconvert_exporter": "python",
   "pygments_lexer": "ipython3",
   "version": "3.13.2"
  }
 },
 "nbformat": 4,
 "nbformat_minor": 2
}
