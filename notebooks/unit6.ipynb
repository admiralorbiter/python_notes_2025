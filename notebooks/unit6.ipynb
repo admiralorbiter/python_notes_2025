{
 "cells": [
  {
   "cell_type": "markdown",
   "metadata": {},
   "source": [
    "# Strings\n",
    "\n",
    "Strings (type str) are sequences of characters and are used to represent text data. We’ve been using strings already for things like \"Hello, World!\". In this section, we’ll dive deeper into how to work with strings: concatenation, slicing, and useful string methods.\n",
    "\n",
    "**Basics of Strings**: You can create a string by enclosing text in single quotes '...' or double quotes \"...\". Both are fine as long as they match. If your string itself contains one type of quote, it’s convenient to use the other to avoid confusion (or escape the quote with a backslash). For example: 'She said \"hi\".' or \"It's raining.\" are valid strings. \n",
    "\n",
    "Strings are **immutable**, meaning once created, they cannot be changed. Any operations that appear to modify a string (like replacing characters) actually create a new string. Keep this in mind: you can’t do my_string[0] = 'H' – that would cause an error. \n",
    "\n",
    "**Concatenation and Repetition**: Use the + operator to concatenate (join) strings, and * to repeat a string a given number of times. For example:"
   ]
  },
  {
   "cell_type": "code",
   "execution_count": null,
   "metadata": {},
   "outputs": [],
   "source": [
    "first = \"Py\"\n",
    "second = \"thon\"\n",
    "print(first + second)    # \"Python\"\n",
    "print(\"Ha\" * 3)          # \"HaHaHa\""
   ]
  },
  {
   "cell_type": "markdown",
   "metadata": {},
   "source": [
    "Be careful: only strings can be concatenated with strings. If you try to do \"Age: \" + 16, you’ll get a TypeError because one is str and the other int. You’d need to convert 16 to a string first (str(16)) or use formatted output (more on that later). \n",
    "\n",
    "**String Indexing**: You can access individual characters of a string by index, using square brackets []. Indices start at 0 for the first character. For example:"
   ]
  },
  {
   "cell_type": "code",
   "execution_count": null,
   "metadata": {},
   "outputs": [],
   "source": [
    "s = \"Python\"\n",
    "print(s[0])   # 'P'\n",
    "print(s[2])   # 't'\n",
    "print(s[-1])  # 'n' (negative index -1 gives last char)"
   ]
  },
  {
   "cell_type": "markdown",
   "metadata": {},
   "source": [
    "Python supports negative indexing where -1 refers to the last character, -2 the second last, and so on. This is handy to access the end of the string directly. \n",
    "\n",
    "**Slicing Strings**: To extract a substring, use slicing with the syntax s[start:end]. This gives a new string from index start up to but not including end. For example:"
   ]
  },
  {
   "cell_type": "code",
   "execution_count": null,
   "metadata": {},
   "outputs": [],
   "source": [
    "text = \"Hello, World!\"\n",
    "print(text[0:5])   # \"Hello\" (chars from index 0 up to 4)\n",
    "print(text[7:12])  # \"World\" (chars 7-11)"
   ]
  },
  {
   "cell_type": "markdown",
   "metadata": {},
   "source": [
    "You can omit start or end to slice from the beginning or to the end. text[:5] would get \"Hello\" (start from 0 by default), and text[7:] would get \"World!\" (index 7 to the end). Using : with no start or end like text[:] returns the whole string (a copy). Slice syntax allows extracting ranges of characters easily​. Remember that the end index is non-inclusive. If you want the first n characters, use [:n]. If you want from some index to the end, use [index:]. \n",
    "\n",
    "Also, you can include a third “step” value: s[start:end:step]. For example, s[::2] returns every second character of the string (skipping one each time). s[::-1] is a neat trick to reverse a string (step -1 means go backwards)."
   ]
  },
  {
   "cell_type": "code",
   "execution_count": null,
   "metadata": {},
   "outputs": [],
   "source": [
    "word = \"abcdefgh\"\n",
    "print(word[1:5])    # \"bcde\" (index 1,2,3,4)\n",
    "print(word[:3])     # \"abc\" (start to index 2)\n",
    "print(word[4:])     # \"efgh\" (index 4 to end)\n",
    "print(word[-3:])    # \"fgh\" (last 3 chars)\n",
    "print(word[::2])    # \"aceg\" (every 2nd char)"
   ]
  },
  {
   "cell_type": "markdown",
   "metadata": {},
   "source": [
    "String Methods: Python provides many built-in methods (functions that belong to the string object) to manipulate and inspect strings. Some useful ones:\n",
    "- lower() / upper(): return a new string with all characters in lower or upper case."
   ]
  },
  {
   "cell_type": "code",
   "execution_count": null,
   "metadata": {},
   "outputs": [],
   "source": [
    "s = \"Python\"\n",
    "print(s.lower())  # \"python\"\n",
    "print(s.upper())  # \"PYTHON\""
   ]
  },
  {
   "cell_type": "markdown",
   "metadata": {},
   "source": [
    "- strip(): returns a new string with whitespace removed from both ends (useful for cleaning input). There’s also lstrip() and rstrip() for left or right side only."
   ]
  },
  {
   "cell_type": "code",
   "execution_count": null,
   "metadata": {},
   "outputs": [],
   "source": [
    "name = \"  Alice\\n\"\n",
    "print(name.strip())  # \"Alice\" (no leading/trailing whitespace)"
   ]
  },
  {
   "cell_type": "markdown",
   "metadata": {},
   "source": [
    "- replace(old, new): returns a new string where all occurrences of substring old are replaced with new."
   ]
  },
  {
   "cell_type": "code",
   "execution_count": null,
   "metadata": {},
   "outputs": [],
   "source": [
    "text = \"I like cats. Cats are cute.\"\n",
    "print(text.replace(\"Cats\", \"Dogs\"))  # \"I like cats. Dogs are cute.\""
   ]
  },
  {
   "cell_type": "markdown",
   "metadata": {},
   "source": [
    "(Notice it didn’t change \"cats\" with lowercase c, because the method is case-sensitive and looked for \"Cats\".)\n",
    "\n",
    "- find(sub): returns the index of the first occurrence of substring sub in the string, or -1 if not found."
   ]
  },
  {
   "cell_type": "code",
   "execution_count": null,
   "metadata": {},
   "outputs": [],
   "source": [
    "print(\"banana\".find(\"na\"))   # 2 (the first \"na\" starts at index 2)\n",
    "print(\"banana\".find(\"z\"))    # -1 (not found)"
   ]
  },
  {
   "cell_type": "markdown",
   "metadata": {},
   "source": [
    "- split(delimiter): splits the string into a list of substrings based on a delimiter. Default splits on any whitespace."
   ]
  },
  {
   "cell_type": "code",
   "execution_count": null,
   "metadata": {},
   "outputs": [],
   "source": [
    "sentence = \"This is a test\"\n",
    "words = sentence.split()   # [\"This\", \"is\", \"a\", \"test\"]\n",
    "csv = \"a,b,c,d\"\n",
    "parts = csv.split(\",\")     # [\"a\", \"b\", \"c\", \"d\"]"
   ]
  },
  {
   "cell_type": "markdown",
   "metadata": {},
   "source": [
    "- join(iterable_of_strings): the inverse of split. It joins a list of strings into one string, using the string as the delimiter."
   ]
  },
  {
   "cell_type": "code",
   "execution_count": null,
   "metadata": {},
   "outputs": [],
   "source": [
    "words = [\"Python\", \"is\", \"fun\"]\n",
    "print(\" \".join(words))     # \"Python is fun\""
   ]
  },
  {
   "cell_type": "markdown",
   "metadata": {},
   "source": [
    "There are many more (e.g. startswith(), endswith(), isdigit(), capitalize(), etc.). You don’t need to memorize all, but know that these conveniences exist. \n",
    "\n",
    "**Immutable Note**: Since strings are immutable, methods like replace and upper return a new string and do not change the original string in place. You have to assign the result to a variable if you want to keep it:"
   ]
  },
  {
   "cell_type": "code",
   "execution_count": null,
   "metadata": {},
   "outputs": [],
   "source": [
    "s = \"hello\"\n",
    "s.upper()\n",
    "print(s)          # still \"hello\", because s.upper() returned a new string that we didn't store\n",
    "s = s.upper()\n",
    "print(s)          # now s is \"HELLO\""
   ]
  },
  {
   "cell_type": "markdown",
   "metadata": {},
   "source": [
    "**String Formatting**: A useful thing to know is how to format strings with variables. For example, constructing a sentence: \"Hello, \" + name + \". You are \" + str(age) + \" years old.\" works, but can get messy. A cleaner way is using f-strings (formatted string literals, available in Python 3.6+):"
   ]
  },
  {
   "cell_type": "code",
   "execution_count": null,
   "metadata": {},
   "outputs": [],
   "source": [
    "name = \"Alice\"\n",
    "age = 17\n",
    "print(f\"Hello, {name}. You are {age} years old.\")"
   ]
  },
  {
   "cell_type": "markdown",
   "metadata": {},
   "source": [
    "This will substitute the variables into the string. It’s more readable and powerful (you can put expressions inside the {} too). There are older methods like .format() or % formatting, but f-strings are now the go-to for simplicity."
   ]
  },
  {
   "cell_type": "markdown",
   "metadata": {},
   "source": [
    "**Triple Quote Strings**: Let's you type out a formatted string, preserving the formatting"
   ]
  },
  {
   "cell_type": "code",
   "execution_count": null,
   "metadata": {},
   "outputs": [],
   "source": [
    "help = \"\"\"Top of Line   \n",
    "                    This is a help menu\n",
    "                    \n",
    "    More Text\n",
    "    Even More Text\n",
    "    Ipsum\n",
    "    \"\"\"\n",
    "\n",
    "print(help)"
   ]
  },
  {
   "cell_type": "markdown",
   "metadata": {},
   "source": [
    "**Escape Sequences**: non-printing string characters.\n",
    "\n",
    "- newline '\\n'\n",
    "- tab '\\t'"
   ]
  },
  {
   "cell_type": "code",
   "execution_count": null,
   "metadata": {},
   "outputs": [],
   "source": [
    "print(\"This is line one\\nThis is line two\\nThis is line three\\n\")\n",
    "\n",
    "print(\"\\tThis line is tabbed over\")"
   ]
  },
  {
   "cell_type": "markdown",
   "metadata": {},
   "source": [
    "## Real-world string usage examples:\n",
    "\n",
    "- Parsing data: e.g., reading a comma-separated string of values and splitting into a list.\n",
    "- User input: input comes as a string, so you might strip whitespace and maybe convert to int/float.\n",
    "- Searching within text: using find() or the in operator (if \"abc\" in some_string:).\n",
    "- Building output messages or generating text files.\n",
    "- Counting occurrences of a word in a paragraph (could use count() method which returns how many times a substring appears)."
   ]
  },
  {
   "cell_type": "markdown",
   "metadata": {},
   "source": [
    "## Exercises:\n",
    "\n",
    "Exercise 1: Given the string phrase = \"I scream, you scream, we all scream for ice cream!\", use a string method to count how many times the word \"scream\" appears in it. (Hint: there's a count method.)\n",
    "\n",
    "Exercise 2: Ask the user to input a word, and then print back the word reversed. (Hint: you can reverse a string with slicing or use a loop to build the reverse.) Example: Input \"hello\" -> Output \"olleh\".\n",
    "\n",
    "Exercise 3: Take the string \"Abracadabra\" and demonstrate the effect of at least three different string methods on it (e.g., make it lowercase, replace “Abra” with “Zebra”, check if it starts with “A”, etc.). Print the results.\n",
    "\n",
    "Exercise 4: Combine input, string methods, and output formatting: Ask the user for their first name and favorite color. Trim any extra spaces, capitalize the first letter of each (just to make it look neat), and then print a sentence like: \"Alice, your favorite color is Blue.\" using an f-string for formatting.\n"
   ]
  }
 ],
 "metadata": {
  "language_info": {
   "name": "python"
  }
 },
 "nbformat": 4,
 "nbformat_minor": 2
}
