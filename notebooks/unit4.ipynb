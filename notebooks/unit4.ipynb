{
 "cells": [
  {
   "cell_type": "markdown",
   "metadata": {},
   "source": [
    "# Functions\n",
    "\n",
    "As programs grow in size, it becomes useful to organize code into reusable pieces. Functions allow you to package a set of instructions under a name, so you can call that name to execute all those instructions whenever needed, with different inputs. This avoids repetition and makes code more modular and readable."
   ]
  },
  {
   "cell_type": "markdown",
   "metadata": {},
   "source": [
    "What is a Function? A function is a block of code which runs only when it is called (invoked). You can pass data into functions (these are called parameters or arguments), and a function can optionally return data (a result). Functions help us reuse code and break complex problems into smaller sub-tasks.\n",
    "\n",
    "In everyday life, think of a function like a recipe: it has a name, takes certain ingredients (inputs), follows a procedure (code), and may give you a finished dish (output). Once you have the recipe, you can reuse it whenever you want to make that dish, possibly with different ingredients. \n",
    "\n",
    "There are 2 main types of functions.\n",
    "\n",
    "1. Functions that return values ( int, sum, input )\n",
    "2. Functions that have a side effect but no return, like print. Without a return it is sometimes called a procedure.\n",
    "\n",
    "**Defining a Function**: In Python, you define a function using the def keyword, followed by the function name and parentheses () containing any parameters. The syntax is:"
   ]
  },
  {
   "cell_type": "code",
   "execution_count": null,
   "metadata": {},
   "outputs": [],
   "source": [
    "def function_name(param1, param2, ...):\n",
    "    \"\"\"Optional documentation string (docstring)\"\"\"\n",
    "    # one or more indented statements (function body)\n",
    "    # possibly a return statement"
   ]
  },
  {
   "cell_type": "markdown",
   "metadata": {},
   "source": [
    "Example:"
   ]
  },
  {
   "cell_type": "code",
   "execution_count": null,
   "metadata": {},
   "outputs": [],
   "source": [
    "def greet(name):\n",
    "    \"\"\"This function greets the person passed in.\"\"\"\n",
    "    print(\"Hello, \" + name + \"!\")"
   ]
  },
  {
   "cell_type": "markdown",
   "metadata": {},
   "source": [
    "Here we defined a function greet that takes one parameter name. It prints a greeting using that name. Notice:\n",
    "- The function body is indented (just like in if/else or loops).\n",
    "- We included a docstring (a string right after the function definition in triple quotes) which describes what the function does. Docstrings are optional but good practice for documenting your code.\n",
    "- The function doesn’t explicitly return a value; it just performs a print. By default, if you don’t return anything, the function returns None (Python’s “nothing” value).\n",
    "\n",
    "\n",
    "**Calling a Function**: Once defined, use the function name followed by parentheses to call it (execute it). If the function has parameters, provide arguments inside the parentheses.\n",
    "\n",
    "![title](img/func1.png)"
   ]
  },
  {
   "cell_type": "code",
   "execution_count": 1,
   "metadata": {},
   "outputs": [
    {
     "name": "stdout",
     "output_type": "stream",
     "text": [
      "Hello, Alice!\n",
      "Hello, Bob!\n"
     ]
    }
   ],
   "source": [
    "def greet(name):\n",
    "    \"\"\"This function greets the person passed in.\"\"\"\n",
    "    print(\"Hello, \" + name + \"!\")\n",
    "\n",
    "greet(\"Alice\")\n",
    "greet(\"Bob\") "
   ]
  },
  {
   "cell_type": "markdown",
   "metadata": {},
   "source": [
    "Each call to greet runs the function’s code with the given name. The first call prints greeting for Alice, the second for Bob. \n",
    "\n",
    "**Return Values**: Functions often compute a value and return it to the caller. The return statement is used to send a value back. When return is executed, the function exits immediately (even if there is more code in the function body after it). \n",
    "\n",
    "![title](img/func2.png)\n",
    "\n",
    "Example:\n",
    "\n",
    "![title](img/func3.png)"
   ]
  },
  {
   "cell_type": "code",
   "execution_count": 4,
   "metadata": {},
   "outputs": [
    {
     "name": "stdout",
     "output_type": "stream",
     "text": [
      "5+7= 12\n",
      "10+(-3)= 7\n"
     ]
    }
   ],
   "source": [
    "def add(a, b):\n",
    "    \"\"\"Returns the sum of a and b.\"\"\"\n",
    "    result = a + b\n",
    "    return result\n",
    "\n",
    "sum1 = add(5, 7)        # sum1 will be 12\n",
    "sum2 = add(10, -3)      # sum2 will be 7\n",
    "print(\"5+7=\", sum1)\n",
    "print(\"10+(-3)=\", sum2)\n"
   ]
  },
  {
   "cell_type": "markdown",
   "metadata": {},
   "source": [
    "If a function doesn’t have a return statement (or you call return without a value), it returns None. For example, our greet function returns None implicitly. If you did x = greet(\"Carol\"), it would print the greeting and x would be None. \n",
    "\n",
    "**Parameters vs Arguments**: Parameters are the variables in a function definition (like name in greet). Arguments are the actual values you pass when calling the function (\"Alice\" and \"Bob\" in our calls)​. You can define functions with multiple parameters, or none at all (e.g., def say_hello(): ...). Python also supports default parameter values and arbitrary numbers of arguments, but those can be explored later. \n",
    "\n",
    "**Scope of Variables**: Variables defined inside a function are local to that function. This means they exist only during the function call and are not accessible outside it. For example:"
   ]
  },
  {
   "cell_type": "code",
   "execution_count": null,
   "metadata": {},
   "outputs": [],
   "source": [
    "def increment(x):\n",
    "    y = x + 1      # y is a local variable\n",
    "    return y\n",
    "\n",
    "result = increment(5)\n",
    "print(result)      # prints 6\n",
    "print(y)           # Error! y is not defined outside the function"
   ]
  },
  {
   "cell_type": "markdown",
   "metadata": {},
   "source": [
    "Trying to print y outside the function causes an error because y only exists within increment. This idea is called scope:\n",
    "\n",
    "- Local scope: inside functions.\n",
    "- Global scope: outside any function (variables defined at the top level of your script).\n",
    "\n",
    "\n",
    "By default, variables you create inside a function do not affect those outside. You can have a global variable and a local variable with the same name, and they are distinct. For example:"
   ]
  },
  {
   "cell_type": "code",
   "execution_count": 5,
   "metadata": {},
   "outputs": [
    {
     "name": "stdout",
     "output_type": "stream",
     "text": [
      "Inside f, x = 5\n",
      "Outside, x = 10\n"
     ]
    }
   ],
   "source": [
    "x = 10          # global x\n",
    "\n",
    "def f():\n",
    "    x = 5       # local x (this does NOT change the global x)\n",
    "    print(\"Inside f, x =\", x)\n",
    "\n",
    "f()\n",
    "print(\"Outside, x =\", x)"
   ]
  },
  {
   "cell_type": "markdown",
   "metadata": {},
   "source": [
    "The x inside the function is separate from the x outside. If you need to modify a global variable inside a function, you’d have to use the global keyword (e.g., global x inside the function), but it’s usually better practice to avoid that and use return values instead to pass results out of a function. \n",
    "\n",
    "**Why use functions**? They promote code reuse and clarity. Instead of writing the same code in multiple places, put it in a function and call the function. If you need to change that logic, you change it in one place (the function definition) instead of many. Functions also make it easier to debug and reason about programs, because each function can be tested individually. \n",
    "\n",
    "**Function Tracing Visualization**: It can be helpful to visualize how function calls work, especially how local variables and return values operate. Again, Python Tutor is a useful resource: if you paste code with a couple of function calls, it will show you the call stack (each function call gets its own frame with local variables). This helps in understanding recursion or just the flow of multiple function calls."
   ]
  },
  {
   "cell_type": "markdown",
   "metadata": {},
   "source": [
    "## EXAMPLES\n",
    "\n",
    "1. No parameters,no return"
   ]
  },
  {
   "cell_type": "code",
   "execution_count": null,
   "metadata": {},
   "outputs": [],
   "source": [
    "def say_hello():\n",
    "    print(\"Hello!\")\n",
    "say_hello()         # prints Hello!"
   ]
  },
  {
   "cell_type": "markdown",
   "metadata": {},
   "source": [
    "This function just does something (prints) but doesn’t take input or return output.\n",
    "\n",
    "2. Multiple parameters, with return:"
   ]
  },
  {
   "cell_type": "code",
   "execution_count": null,
   "metadata": {},
   "outputs": [],
   "source": [
    "def say_hello():\n",
    "    print(\"Hello!\")\n",
    "say_hello()         # prints Hello!"
   ]
  },
  {
   "cell_type": "markdown",
   "metadata": {},
   "source": [
    "3. Using a function to avoid repetition: Suppose you need to convert temperatures from Celsius to Fahrenheit in several places. Instead of writing the formula each time, define a function:"
   ]
  },
  {
   "cell_type": "code",
   "execution_count": null,
   "metadata": {},
   "outputs": [],
   "source": [
    "def c_to_f(celsius):\n",
    "    return celsius * 9/5 + 32\n",
    "\n",
    "temps_c = [0, 20, 37, 100]\n",
    "for t in temps_c:\n",
    "    print(c_to_f(t))"
   ]
  },
  {
   "cell_type": "markdown",
   "metadata": {},
   "source": [
    "This will convert each Celsius temperature in the list to Fahrenheit and print it. The formula is defined once in c_to_f, making the code cleaner."
   ]
  },
  {
   "cell_type": "markdown",
   "metadata": {},
   "source": [
    "**Reusable Functions in Programs**: As you progress, you’ll write many functions and assemble them to form a program. Think of it like a toolbox of skills: each function does one job. For example, in a program that processes text, you might have one function to count words, another to find common words, another to capitalize sentences, etc. You can then call these in sequence to accomplish a bigger task."
   ]
  },
  {
   "cell_type": "markdown",
   "metadata": {},
   "source": [
    "## Exercises: \n",
    "\n",
    "Exercise 1: Write a function square(n) that returns the square of its input (n*n). Use it in a loop to print the squares of numbers 1 to 10 (you can reuse from the loop exercise).\n",
    "\n",
    "Exercise 2: Write a function is_even(num) that returns True if num is even and False otherwise. Test it on a few numbers and use it in a loop to filter and print only even numbers from a list.\n",
    "\n",
    "Exercise 3: Create a function max_of_three(a, b, c) that returns the largest of three numbers. (Hint: You can use if/else inside or use built-in max function, but try the logic yourself.) Then test max_of_three with some triples of numbers.\n",
    "\n",
    "Exercise 4: (Challenge) Write a function fibonacci(n) that returns the n-th Fibonacci number. The Fibonacci sequence starts 0, 1, 1, 2, 3, 5, 8,... where each number after the first two is the sum of the two preceding ones. fibonacci(0) could return 0, fibonacci(1) returns 1, fibonacci(5) returns 5, etc. (This can be done with a loop. If you know about recursion, you can try that, but a loop is fine.)\n"
   ]
  },
  {
   "cell_type": "markdown",
   "metadata": {},
   "source": [
    "Local vs Global Reflection: Try this quick test – what will the following code print?"
   ]
  },
  {
   "cell_type": "code",
   "execution_count": null,
   "metadata": {},
   "outputs": [],
   "source": [
    "def foo():\n",
    "    x = 5\n",
    "    return x\n",
    "\n",
    "x = 10\n",
    "print(foo())\n",
    "print(x)"
   ]
  }
 ],
 "metadata": {
  "kernelspec": {
   "display_name": "Python 3",
   "language": "python",
   "name": "python3"
  },
  "language_info": {
   "codemirror_mode": {
    "name": "ipython",
    "version": 3
   },
   "file_extension": ".py",
   "mimetype": "text/x-python",
   "name": "python",
   "nbconvert_exporter": "python",
   "pygments_lexer": "ipython3",
   "version": "3.12.5"
  }
 },
 "nbformat": 4,
 "nbformat_minor": 2
}
