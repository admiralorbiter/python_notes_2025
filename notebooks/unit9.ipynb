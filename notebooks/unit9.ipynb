{
 "cells": [
  {
   "cell_type": "markdown",
   "metadata": {},
   "source": [
    "# Classes (Object-Oriented Basics)\n",
    "\n",
    "This is the last major topic: object-oriented programming (OOP), which introduces classes and objects. OOP is a paradigm where we model concepts as \"objects\" that have attributes (data) and methods (functions). A class is like a blueprint or template for creating objects (instances). Each object (instance) of a class can have its own data, and can use the methods defined by the class. \n",
    "\n",
    "This may sound abstract, but think of a class as a concept or category, and objects as specific examples. For example, class Dog might define what a dog is (it has a name, age, breed, and it can bark, eat, etc.). A specific dog, like your pet Fido, is an object (instance) of class Dog with specific values for those attributes (name=\"Fido\", age=4, breed=\"Labrador\"). \n",
    "\n",
    "Why use classes? They allow bundling data and related functions together, which is useful for modeling things in code in a more natural way. Also, they allow multiple instances to be created without repeating code (similar to how we used functions to avoid repeating tasks, classes help avoid repeating code for similar objects). \n",
    "\n",
    "**Defining a Class**: Use the class keyword. Inside, define functions (methods) and attributes. By convention, class names are Capitalized. \n",
    "\n",
    "Example:\n",
    "\n"
   ]
  },
  {
   "cell_type": "code",
   "execution_count": null,
   "metadata": {},
   "outputs": [],
   "source": [
    "class Dog:\n",
    "    def __init__(self, name, age):\n",
    "        self.name = name\n",
    "        self.age = age\n",
    "\n",
    "    def bark(self):\n",
    "        print(f\"{self.name} says: Woof!\")"
   ]
  },
  {
   "cell_type": "markdown",
   "metadata": {},
   "source": [
    "Let’s unpack this:\n",
    "- class Dog: starts a class definition named Dog.\n",
    "- def __init__(self, name, age): is a special method called a constructor (the initializer). This is called when you create a new Dog object. The self parameter refers to the instance being created, and name and age are additional parameters passed in. Inside, we do self.name = name and self.age = age. This sets attributes on the object. \n",
    "- Essentially, every Dog will have a name and age attribute.\n",
    "- def bark(self): is another method. It takes only self as parameter (since it doesn’t need extra data to bark). It prints a message including self.name.\n",
    "\n",
    "**Creating Objects (Instances)**: You call the class as if it were a function:"
   ]
  },
  {
   "cell_type": "code",
   "execution_count": null,
   "metadata": {},
   "outputs": [],
   "source": [
    "my_dog = Dog(\"Buddy\", 3)   # this calls Dog.__init__(self, \"Buddy\", 3) behind the scenes\n",
    "your_dog = Dog(\"Max\", 5)"
   ]
  },
  {
   "cell_type": "markdown",
   "metadata": {},
   "source": [
    "Now my_dog and your_dog are two different Dog objects, each with its own name and age. \n",
    "\n",
    "Use methods with the dot syntax:"
   ]
  },
  {
   "cell_type": "code",
   "execution_count": null,
   "metadata": {},
   "outputs": [],
   "source": [
    "my_dog.bark()   # Buddy says: Woof!\n",
    "your_dog.bark() # Max says: Woof!"
   ]
  },
  {
   "cell_type": "markdown",
   "metadata": {},
   "source": [
    "They bark with their own names. If we print my_dog.name or my_dog.age, we’d see \"Buddy\" and 3. \n",
    "\n",
    "**Understanding self**: self is a reference to the instance. When you call my_dog.bark(), Python internally converts that to Dog.bark(my_dog). So inside the method, self refers to my_dog. This is why we were able to use self.name inside bark to get that specific dog’s name. \n",
    "\n",
    "**Attributes**: We set self.name and self.age in __init__. You can also add attributes outside of init (like self.breed = breed if breed was passed in, etc.). Or even dynamically add attributes to an instance (e.g., my_dog.color = \"Brown\" outside class definition), though that’s less common. \n",
    "\n",
    "**Encapsulation**: The idea that data (attributes) and methods that operate on the data are encapsulated together in an object. You interact with the object via its methods, rather than directly manipulating its internal data, ideally. In Python, there’s no strict access control (like private in some languages); by convention, a leading underscore in a name (e.g., _secret) is used to indicate “don’t touch this outside the class”. \n",
    "\n",
    "**Example** – Another Class: Let's model a simple bank account:"
   ]
  },
  {
   "cell_type": "code",
   "execution_count": null,
   "metadata": {},
   "outputs": [],
   "source": [
    "class BankAccount:\n",
    "    def __init__(self, owner, balance=0):\n",
    "        self.owner = owner\n",
    "        self.balance = balance\n",
    "\n",
    "    def deposit(self, amount):\n",
    "        self.balance += amount\n",
    "        print(f\"{amount} deposited. New balance: {self.balance}\")\n",
    "\n",
    "    def withdraw(self, amount):\n",
    "        if amount > self.balance:\n",
    "            print(\"Insufficient funds\")\n",
    "        else:\n",
    "            self.balance -= amount\n",
    "            print(f\"{amount} withdrawn. New balance: {self.balance}\")"
   ]
  },
  {
   "cell_type": "markdown",
   "metadata": {},
   "source": [
    "- Each BankAccount has an owner and balance.\n",
    "- deposit and withdraw are methods to modify the balance.\n",
    "- We included a check in withdraw to prevent overdrawing.\n",
    "\n",
    "Using it:"
   ]
  },
  {
   "cell_type": "markdown",
   "metadata": {},
   "source": [
    "acct = BankAccount(\"Alice\", 100)\n",
    "acct.deposit(50)    # \"50 deposited. New balance: 150\"\n",
    "acct.withdraw(70)   # \"70 withdrawn. New balance: 80\"\n",
    "acct.withdraw(100)  # \"Insufficient funds\" (balance is 80, can't withdraw 100)"
   ]
  },
  {
   "cell_type": "markdown",
   "metadata": {},
   "source": [
    "If you had another account:"
   ]
  },
  {
   "cell_type": "code",
   "execution_count": null,
   "metadata": {},
   "outputs": [],
   "source": [
    "acct2 = BankAccount(\"Bob\")\n",
    "print(acct2.balance)   # 0 (default initial balance)\n",
    "acct2.deposit(10)      # \"10 deposited. New balance: 10\""
   ]
  },
  {
   "cell_type": "markdown",
   "metadata": {},
   "source": [
    "They maintain separate state (balance) because self.balance refers to that particular instance’s balance. \n",
    "\n",
    "**Classes vs Modules**: Modules organize functions and data by file, classes organize them by logical entity. Sometimes you might have a module that contains several related classes (e.g., a shapes.py module with classes Circle, Square, etc.). Classes are about the blueprint of an object, modules are about grouping code and objects in files. \n",
    "\n",
    "**Everything is an object**: In Python, even basic types are objects of some class (int, str, list, etc. are classes). When you do x = 5, x is an instance of class int. That’s why you can do x.bit_length() which is a method on int objects. But for now, the focus is on creating your own classes. \n",
    "\n",
    "**Methods – more details**: You can define other special methods like __str__ to tell Python how to convert your object to a string (e.g., for printing). Example:"
   ]
  },
  {
   "cell_type": "code",
   "execution_count": null,
   "metadata": {},
   "outputs": [],
   "source": [
    "def __str__(self):\n",
    "    return f\"Dog(name={self.name}, age={self.age})\""
   ]
  },
  {
   "cell_type": "markdown",
   "metadata": {},
   "source": [
    "Then print(my_dog) would use this. If not defined, printing an object shows a default representation like <__main__.Dog object at 0x...>. \n",
    "\n",
    "Also, you can have methods that modify the object, or methods that just compute something. You can even define class variables (attributes shared by all instances of a class) by defining them at class level. \n",
    "\n",
    "**Basic Inheritance**: One OOP concept is that classes can inherit from other classes (a subclass extends a base class). For example, you could have a class Cat that inherits from a class Animal to reuse code/generalize behavior. This might be beyond scope for now, but it’s good to know it exists. Python uses (ParentClass) in class definition to inherit."
   ]
  },
  {
   "cell_type": "markdown",
   "metadata": {},
   "source": [
    "## Exercises:\n",
    "Exercise 1: Define a class Rectangle with attributes width and height. Include a method area that returns widthheight, and a method perimeter that returns 2(width+height). Create a couple of Rectangle objects with different sizes and print out their area and perimeter.\n",
    "\n",
    "Exercise 2: Define a class Student with attributes name and grade (0-100). Include a method is_passing that returns True if grade >= 60, False otherwise. Create a few Student objects and test the method and attributes (e.g., print a message like \"___ is passing: True/False\").\n",
    "\n",
    "Exercise 3: Create a class Counter that keeps an internal count (an integer, starting at 0 by default). It should have methods: increment() (add 1 to count), decrement() (subtract 1), and get_count() (return the current count). Ensure that each instance of Counter has its own count. Test by creating two counters and incrementing them different amounts, showing that they maintain separate counts.\n",
    "\n",
    "Exercise 4: (Explore) In the earlier BankAccount class example, try adding a __str__ method to return a string like Account(owner='Alice', balance=150). Then print the account object to see the effect. Also, consider: what happens if you try to access an attribute that doesn’t exist? E.g., acct.interest_rate when we didn’t define one. (Answer: it will raise AttributeError – Python’s way of saying the object has no such attribute.)\n",
    "\n",
    "Exercise 5: (Conceptual) Think of a real-world entity that could be represented as a class in a program, and list some attributes and methods it might have. For example, a Book class might have attributes title, author, and methods like read_page() or get_description(). There’s no single correct answer, it’s to practice thinking in terms of classes."
   ]
  }
 ],
 "metadata": {
  "language_info": {
   "name": "python"
  }
 },
 "nbformat": 4,
 "nbformat_minor": 2
}
