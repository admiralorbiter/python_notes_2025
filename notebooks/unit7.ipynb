{
 "cells": [
  {
   "cell_type": "markdown",
   "metadata": {},
   "source": [
    "# Lists and Tuples\n",
    "\n",
    "In programming, we often need to work with collections of data. For example, a list of student names, a series of measurements, or a collection of test scores. Python offers several built-in data structures for collections. Two fundamental ones are lists and tuples. They are both sequences, meaning they hold an ordered sequence of items accessible by index. The key differences are mutability (lists are mutable, tuples are immutable) and syntax.\n",
    "\n",
    "## Lists\n",
    "\n",
    "A list in Python is an ordered, mutable collection of items​. “Mutable” means you can change a list after it’s created (add, remove, or modify elements). Lists are very versatile and are probably the most used data type besides basic types. \n",
    "\n",
    "**Creating Lists**: Use square brackets [] to define a list, with elements separated by commas:"
   ]
  },
  {
   "cell_type": "code",
   "execution_count": null,
   "metadata": {},
   "outputs": [],
   "source": [
    "empty_list = []                        # an empty list\n",
    "numbers = [10, 20, 30, 40]            # list of ints\n",
    "mixed = [1, \"two\", 3.0, True]         # list of mixed types (ints, str, float, bool)\n",
    "nested = [1, [2, 3], 4]               # list can contain another list"
   ]
  },
  {
   "cell_type": "markdown",
   "metadata": {},
   "source": [
    "Lists can contain duplicate elements and elements of different types. Typically, you have a list of similar items, but Python doesn’t enforce a type – it’s up to you. \n",
    "\n",
    "**Accessing Elements**: Like strings, list elements are indexed starting at 0. Use list[index] to access an element:"
   ]
  },
  {
   "cell_type": "code",
   "execution_count": null,
   "metadata": {},
   "outputs": [],
   "source": [
    "fruits = [\"apple\", \"banana\", \"cherry\"]\n",
    "print(fruits[1])      # \"banana\"\n",
    "fruits[1] = \"blueberry\"\n",
    "print(fruits)         # [\"apple\", \"blueberry\", \"cherry\"]  (we mutated the list)"
   ]
  },
  {
   "cell_type": "markdown",
   "metadata": {},
   "source": [
    "We replaced the element at index 1. That’s allowed because lists are changeable (mutable). If we tried the same with a tuple or string, it would error. \n",
    "\n",
    "Negative indices work too (-1 for last element, etc.), and you can do slicing on lists just like strings:"
   ]
  },
  {
   "cell_type": "code",
   "execution_count": null,
   "metadata": {},
   "outputs": [],
   "source": [
    "print(fruits[-1])     # \"cherry\"\n",
    "print(fruits[:2])     # [\"apple\", \"blueberry\"] (first two elements)"
   ]
  },
  {
   "cell_type": "markdown",
   "metadata": {},
   "source": [
    "**Slicing**: Slicing also works the same way as strings"
   ]
  },
  {
   "cell_type": "code",
   "execution_count": null,
   "metadata": {},
   "outputs": [],
   "source": [
    "days_of_week = [\"Monday\", \"Tuesday\", \"Wednesday\", \"Thursday\", \"Friday\", \n",
    "                \"Saturday\", \"Sunday\"]\n",
    "\n",
    "work_week = days_of_week[:5]\n",
    "print(type(work_week), work_week)"
   ]
  },
  {
   "cell_type": "markdown",
   "metadata": {},
   "source": [
    "**List Properties**:\n",
    "- Ordered: The order of insertion is preserved. If you append items in a certain order, iterating over the list will give them in that order​. (In Python 3.7+, even dictionaries are ordered, but historically lists were the go-to for ordered data.)\n",
    "- Mutable (changeable): You can modify the list content after creation. This includes adding or removing elements.\n",
    "- Allows duplicates: You can have the same value multiple times in a list.\n",
    "- Dynamic size: You don’t have to declare a size; you can append or remove items and the list resizes."
   ]
  },
  {
   "cell_type": "markdown",
   "metadata": {},
   "source": [
    "**Common List Operations:**\n",
    "- len(list): returns the number of elements.\n",
    "- append(item): adds an item to the end of the list.\n",
    "- insert(index, item): inserts an item at a specified index (shifting others to the right).\n",
    "- pop(index): removes and returns the item at given index (defaults to last if index not provided).\n",
    "- remove(item): removes the first occurrence of the item from the list.\n",
    "- sort(): sorts the list in place (if elements are comparable). Or use sorted(list) to get a sorted copy without modifying the original.\n",
    "- reverse(): reverses the list in place. Or use list[::-1] for a reversed copy.\n",
    "- index(item): returns the index of the first occurrence of item (or raises ValueError if not found).\n",
    "- count(item): counts how many times an item appears in the list.\n",
    "- Using in: you can check membership, e.g. if \"apple\" in fruits:."
   ]
  },
  {
   "cell_type": "code",
   "execution_count": null,
   "metadata": {},
   "outputs": [],
   "source": [
    "numbers = [5, 2, 9]\n",
    "numbers.append(10)            # [5, 2, 9, 10]\n",
    "numbers.insert(1, 7)          # [5, 7, 2, 9, 10] (insert 7 at index 1)\n",
    "print(len(numbers))           # 5\n",
    "print(numbers.pop(2))         # removes and prints item at index 2 (which is 2); list becomes [5, 7, 9, 10]\n",
    "numbers.remove(7)             # [5, 9, 10] (remove first occurrence of 7)\n",
    "numbers.sort()                # [5, 9, 10] (they were already in order in this case)\n",
    "numbers.reverse()             # [10, 9, 5]"
   ]
  },
  {
   "cell_type": "markdown",
   "metadata": {},
   "source": [
    "Iterating through a list:"
   ]
  },
  {
   "cell_type": "code",
   "execution_count": null,
   "metadata": {},
   "outputs": [],
   "source": [
    "for num in numbers:\n",
    "    print(num)"
   ]
  },
  {
   "cell_type": "markdown",
   "metadata": {},
   "source": [
    "This will print each element in the list. You can also loop by index:\n"
   ]
  },
  {
   "cell_type": "code",
   "execution_count": null,
   "metadata": {},
   "outputs": [],
   "source": [
    "for i in range(len(numbers)):\n",
    "    print(i, numbers[i])"
   ]
  },
  {
   "cell_type": "markdown",
   "metadata": {},
   "source": [
    "This prints index and value. \n",
    "\n",
    "Lists are often used to collect results or group related values. For instance, reading data from a file and storing lines in a list, or maintaining a list of active users in a game, etc. "
   ]
  },
  {
   "cell_type": "markdown",
   "metadata": {},
   "source": [
    "**Concatnetion**: You can add lists together to create new larger lists"
   ]
  },
  {
   "cell_type": "code",
   "execution_count": null,
   "metadata": {},
   "outputs": [],
   "source": [
    "my_list = [1, 2, 9]\n",
    "var2 = [\"M\", \"T\", \"W\"]\n",
    "new_list = my_list + var2\n",
    "\n",
    "print(new_list)\n",
    "print(my_list)"
   ]
  },
  {
   "cell_type": "markdown",
   "metadata": {},
   "source": [
    "**Membership**: You can find is something is in a list using the **in** keyword."
   ]
  },
  {
   "cell_type": "code",
   "execution_count": null,
   "metadata": {},
   "outputs": [],
   "source": [
    "my_list = [9, 8, 2, 3, \"Hello\"]\n",
    "\n",
    "print( \"Hello\" in my_list )"
   ]
  },
  {
   "cell_type": "code",
   "execution_count": null,
   "metadata": {},
   "outputs": [],
   "source": [
    "hello = [\"H\", \"e\"]\n",
    "my_list = [hello, \"World\"]\n",
    "\n",
    "\n",
    "print(\"H\" in my_list)"
   ]
  },
  {
   "cell_type": "code",
   "execution_count": null,
   "metadata": {},
   "outputs": [],
   "source": [
    "my_list = [\"Hello\", \"World\"]\n",
    "\n",
    "print( \"HEllo\" in my_list)"
   ]
  },
  {
   "cell_type": "code",
   "execution_count": null,
   "metadata": {},
   "outputs": [],
   "source": [
    "my_list = [\"Hello\", \"World\"]\n",
    "\n",
    "print( \"Hello\" in my_list)"
   ]
  },
  {
   "cell_type": "markdown",
   "metadata": {},
   "source": [
    "**Comparisons**: \n",
    "\n",
    "< > <= >= == != work just like with any other datatype that we've seen.\n",
    "\n",
    "However, each item in the list has to be comparable to each other\n",
    "\n",
    "It compares in the same way strings do, it stops as soon as it finds the first inequality and makes the comparison on that."
   ]
  },
  {
   "cell_type": "code",
   "execution_count": null,
   "metadata": {},
   "outputs": [],
   "source": [
    "my_list = [5, 9, 8]\n",
    "my_list2 = [5, 6, 8]\n",
    "\n",
    "print(my_list > my_list2)\n",
    "\n",
    "#Equivalent to 1 > 8 in this case."
   ]
  },
  {
   "cell_type": "code",
   "execution_count": null,
   "metadata": {},
   "outputs": [],
   "source": [
    "my_list = [5, 2, 8]\n",
    "my_list2 = [5, 3, 1]\n",
    "\n",
    "print(my_list > my_list2)\n",
    "# equivalent to 2 > 3 in this case."
   ]
  },
  {
   "cell_type": "code",
   "execution_count": null,
   "metadata": {},
   "outputs": [],
   "source": [
    "#Can't compare things in a list that aren't comparable.\n",
    "\n",
    "my_list = [2, \"West\"]\n",
    "my_list2 = [2, \"West\"]\n",
    "\n",
    "print(my_list > my_list2)"
   ]
  },
  {
   "cell_type": "markdown",
   "metadata": {},
   "source": [
    "**Functions**: len, min, max, and sum work as you'd expect them to. Just like they did with strings."
   ]
  },
  {
   "cell_type": "code",
   "execution_count": null,
   "metadata": {},
   "outputs": [],
   "source": [
    "my_list = [5, 2, 3, 22]\n",
    "\n",
    "print(\"Length of list is \", len(my_list))\n",
    "print(\"Minimum value of list is \", min(my_list))\n",
    "print(\"Maximum value is\", max(my_list))\n",
    "print(\"sum of list is \", sum(my_list))"
   ]
  },
  {
   "cell_type": "markdown",
   "metadata": {},
   "source": [
    "**Changing Lists:** Lists are mutable. Which means they can be changed.\n",
    "\n",
    "Remember that we couldn't upper case a string in place. We got a new string and assigned it to the same variable, or to a new one. We also couldn't change a character at a particular index."
   ]
  },
  {
   "cell_type": "code",
   "execution_count": null,
   "metadata": {},
   "outputs": [],
   "source": [
    "months = [\"Jan\", \"Feb\", \"March\", \"April\", \"May\", \"June\", \"July\", \"August\", \n",
    "          \"September\", \"Rocktober\", \"November\", \"December\"]\n",
    "\n",
    "\n",
    "#Rocktober isn't correct.\n",
    "print(months)\n",
    "months[9] = \"October\"\n",
    "print(\"Fixed months\", months)"
   ]
  },
  {
   "cell_type": "markdown",
   "metadata": {},
   "source": [
    "You can also replaces slices."
   ]
  },
  {
   "cell_type": "code",
   "execution_count": null,
   "metadata": {},
   "outputs": [],
   "source": [
    "my_cars = [\"Ferrari\", \"Corvette\", \"Mustang\", \"Civic\"]\n",
    "\n",
    "print(my_cars)\n",
    "my_cars[:2] = [\"pinto\", \"escort\"]\n",
    "print(\"Changed cars\", my_cars)"
   ]
  },
  {
   "cell_type": "code",
   "execution_count": null,
   "metadata": {},
   "outputs": [],
   "source": [
    "my_cars = [\"Farrari\", \"Corvette\", \"Mustang\", \"Civic\"]\n",
    "print(my_cars) \n",
    "my_cars[:2] = [\"pinto\", \"escort\", \"tesla\"] \n",
    "print(\"Changed cars\", my_cars)"
   ]
  },
  {
   "cell_type": "markdown",
   "metadata": {},
   "source": [
    "**Copying Lists**: You can make a copy of a list by using the copy method or a slice of the list.\n",
    "\n",
    "It's a shallow copy because it only makes a new list and puts the references in it. Any object in the list that is mutable, is the same in both lists."
   ]
  },
  {
   "cell_type": "code",
   "execution_count": null,
   "metadata": {},
   "outputs": [],
   "source": [
    "books = [\"Hitchhiker's Guide To the Galaxy\", \"2001\", \"The Stand\"]\n",
    "\n",
    "copy_books = books.copy()\n",
    "copy_books2 = books[:]\n",
    "\n",
    "books.append(\"A River Runs Through It\")\n",
    "copy_books.append(\"Effective Python\")\n",
    "\n",
    "print(books)\n",
    "print(copy_books)\n",
    "print(copy_books2)"
   ]
  },
  {
   "cell_type": "code",
   "execution_count": null,
   "metadata": {},
   "outputs": [],
   "source": [
    "businesses = [\"Tom's Hardware\", \"Corner Cafe\"]\n",
    "\n",
    "chains = [\"McDonalds\", \"Lowes\", \"Target\"]\n",
    "\n",
    "\n",
    "businesses.append(chains)\n",
    "\n",
    "#print(businesses)\n",
    "\n",
    "#Make a shallow copy of the business.\n",
    "business_copy = businesses[:]\n",
    "\n",
    "#Change Mcdonalds to McDonald's Hamburgers\n",
    "print(\"before\", business_copy)\n",
    "chains[0] = \"McDonald's Hamburgers\"\n",
    "print(\"after\", business_copy)"
   ]
  },
  {
   "cell_type": "markdown",
   "metadata": {},
   "source": [
    "**Deep Copy**"
   ]
  },
  {
   "cell_type": "code",
   "execution_count": null,
   "metadata": {},
   "outputs": [],
   "source": [
    "import copy\n",
    "\n",
    "\n",
    "businesses = [\"Tom's Hardware\", \"Corner Cafe\"]\n",
    "chains = [\"McDonalds\", \"Lowes\", \"Target\"]\n",
    "\n",
    "\n",
    "businesses.append(chains)\n",
    "\n",
    "#Make a shallow copy of the business.\n",
    "business_copy = copy.deepcopy(businesses)\n",
    "\n",
    "#Change Mcdonalds to McDonald's Hamburgers\n",
    "print(\"before\", business_copy)\n",
    "chains[0] = \"McDonald's Hamburgers\"\n",
    "print(\"after\", business_copy)\n",
    "print(businesses)"
   ]
  },
  {
   "cell_type": "markdown",
   "metadata": {},
   "source": [
    "**List as a stack or queue:**\n",
    "- Stack (LIFO: last-in first-out): use append() to push, pop() to pop.\n",
    "- Queue (FIFO: first-in first-out): you could use append() and pop(0) to pop from front, but popping from front is O(n) (not efficient). Python has collections.deque for efficient queues, but that’s beyond basics.\n",
    "\n",
    "**List Comprehensions**: (Optional advanced syntax) Python has a concise way to construct lists using a comprehension, e.g. [x*x for x in range(1,6)] yields [1, 4, 9, 16, 25]. It’s a nice feature but can be introduced later once basic loops are understood."
   ]
  },
  {
   "cell_type": "markdown",
   "metadata": {},
   "source": [
    "## Tuples\n",
    "\n",
    "A tuple is very similar to a list in that it’s an ordered collection of elements, but it is immutable (you cannot change its contents once created)​. Tuples are created using parentheses () instead of square brackets. \n",
    "\n",
    "Example:"
   ]
  },
  {
   "cell_type": "code",
   "execution_count": null,
   "metadata": {},
   "outputs": [],
   "source": [
    "point = (3, 4)\n",
    "colors = (\"red\", \"green\", \"blue\")\n",
    "mixed_tuple = (1, \"hello\", 3.14)"
   ]
  },
  {
   "cell_type": "markdown",
   "metadata": {},
   "source": [
    "You access elements the same way (e.g., point[0] is 3). You can slice tuples too. But if you try to do colors[1] = \"yellow\", you’ll get a TypeError because tuples don’t support item assignment. \n",
    "\n",
    "If you need an unchangeable sequence of items, tuples are a good choice. They are also used when you want to ensure some data grouped together won’t be modified. For instance, a tuple can represent a coordinate (x, y) that should remain as a pair. \n",
    "\n",
    "Another use of tuples is that they can be keys in dictionaries (we’ll see dictionaries next) because they are immutable, whereas lists cannot be keys because they are mutable. \n",
    "\n",
    "**Creating a tuple with a single element**: You have to include a comma, e.g. singleton = (5,). Without the comma, Python treats (5) as just 5 in parentheses (an integer in parentheses, not a tuple). \n",
    "\n",
    "**Packing and Unpacking**: You’ll often see tuples used to return multiple values from a function or to swap variables:"
   ]
  },
  {
   "cell_type": "code",
   "execution_count": null,
   "metadata": {},
   "outputs": [],
   "source": [
    "def get_position():\n",
    "    return (42.3, 19.5)\n",
    "\n",
    "pos = get_position()\n",
    "x_coord = pos[0]\n",
    "y_coord = pos[1]\n",
    "# or directly: x_coord, y_coord = get_position()  (tuple unpacking)"
   ]
  },
  {
   "cell_type": "markdown",
   "metadata": {},
   "source": [
    "Tuple unpacking example:\n"
   ]
  },
  {
   "cell_type": "code",
   "execution_count": null,
   "metadata": {},
   "outputs": [],
   "source": [
    "a, b = (1, 2)\n",
    "# Now a=1, b=2\n",
    "# This also works with lists or any sequence actually, not just tuples."
   ]
  },
  {
   "cell_type": "markdown",
   "metadata": {},
   "source": [
    "Swapping variables in Python can be done succinctly: a, b = b, a (this packs the right side into a tuple and unpacks into the left side variables). \n",
    "\n",
    "**When to use lists vs tuples**:\n",
    "- Use a list if you need to modify the sequence (add/remove elements, sort, etc.).\n",
    "- Use a tuple if the sequence should not change or to group heterogeneous data. Tuples can be seen as records (like an immutable struct with different fields). For example, you might use a tuple for a (latitude, longitude) pair or an RGB color (r,g,b) if you want to ensure those two/three values stay together and not accidentally modified separately."
   ]
  },
  {
   "cell_type": "markdown",
   "metadata": {},
   "source": [
    "## Exercises:\n",
    "Exercise 1: Create a list of five fruit names. Print the first and last fruit. Then replace the second fruit with a different fruit name. Print the modified list.\n",
    "\n",
    "Exercise 2: Write a loop that sums all the numbers in a list of integers. (Without using the built-in sum for practice.) Verify it works with a list like [5, 8, 2, 1] (which should sum to 16).\n",
    "\n",
    "Exercise 3: Use a list to store the letters of a word, e.g. \"PYTHON\" -> ['P','Y','T','H','O','N']. Then use join to recombine the letters into a word and print it. (This demonstrates going from string to list and back.)\n",
    "\n",
    "Exercise 4: Create a tuple representing a date (year, month, day). For example (2025, 12, 31). Print it. Then attempt to change the year to 2030 (expect an error since tuples are immutable). Catch the exception in a try/except and print a message like \"Cannot modify tuple!\".\n",
    "\n",
    "Exercise 5: (Thought) The immutability of tuples can be an advantage in certain scenarios. Can you think of a situation where having an immutable sequence might prevent a bug or unintended side effect? (Hint: think about passing a collection of settings or constants into a function – using a tuple signals “don’t change these”.)"
   ]
  }
 ],
 "metadata": {
  "language_info": {
   "name": "python"
  }
 },
 "nbformat": 4,
 "nbformat_minor": 2
}
