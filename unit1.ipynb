{
 "cells": [
  {
   "cell_type": "markdown",
   "metadata": {},
   "source": [
    "# Intro to Python 3, Variables, and Expressions\n",
    "\n",
    "<b>Python Basics & Environment Setup:</b> Python is an interpreted language, which means you can write and run code interactively. To get started, install Python from the official website or use an online IDE. Many computers come with an interactive Python shell (REPL) where you can type code and see results immediately. For example, open a terminal and type python3 or python to enter the interpreter, or use an environment like IDLE (Python’s Integrated Development and Learning Environment). You can also use cloud-based notebooks (like Google Colab or Jupyter) for an interactive experience. Hello, World is a traditional first program – it simply prints a greeting to the screen. In Python, you can do this in one line:"
   ]
  },
  {
   "cell_type": "code",
   "execution_count": 1,
   "metadata": {},
   "outputs": [
    {
     "name": "stdout",
     "output_type": "stream",
     "text": [
      "Hello, World!\n"
     ]
    }
   ],
   "source": [
    "print(\"Hello, World!\")"
   ]
  },
  {
   "cell_type": "markdown",
   "metadata": {},
   "source": [
    "Run this code and you should see the output Hello, World! in the console."
   ]
  },
  {
   "cell_type": "markdown",
   "metadata": {},
   "source": [
    "## What is a Program?"
   ]
  },
  {
   "cell_type": "markdown",
   "metadata": {},
   "source": [
    "<h3>Construting a Program</h3>\n",
    "\n",
    "Most programs follow a general structure. While the order may vary, they typically involve the following steps:\n",
    "\n",
    "1. **Get input** – Accept data from the user, a file, a database, or another source.\n",
    "2. **Process data** – Perform calculations, modify data, or apply logic based on the input.\n",
    "3. **Provide output** – Display results, save data, or communicate with other systems.\n",
    "\n",
    "These steps can be repeated in different sequences depending on the program’s logic and requirements."
   ]
  },
  {
   "cell_type": "markdown",
   "metadata": {},
   "source": [
    "<h3>Parts of a Programming Language</h3>\n",
    "<ul>\n",
    "    <li>Datatypes (int, float, bool, string, etc.)</li>\n",
    "    <li>Comments</li>\n",
    "    <li>Variables and literals</li>\n",
    "    <li>Expressions and statements</li>\n",
    "    <li>Tokens</li>\n",
    "    <li>Keywords (reserved words used for built-in functions or control)</li>\n",
    "    <li>Functions (input, print, int, float, str, type, dir, sum, abs, etc.)</li>\n",
    "    <li>Control (import, for, if, while, ...)</li>\n",
    "    <li>Operators (+, -, *, /, //, %, **)</li>\n",
    "    <li>Comparison (<, >, <=, >=, ==, etc.)</li>\n",
    "    <li>Namespace</li>\n",
    "    <li>Whitespace</li>\n",
    "</ul>"
   ]
  },
  {
   "cell_type": "markdown",
   "metadata": {},
   "source": [
    "## **Understanding Whitespace in Python**\n",
    "Whitespace refers to spaces, tabs, and new lines in your code. In Python, **whitespace is important** because it affects how the code runs.\n",
    "\n",
    "### **1. Whitespace for Readability**\n",
    "- Spaces and blank lines help make code easier to read.\n",
    "- Python **ignores extra spaces** inside expressions but not where structure matters.\n",
    "- Example:"
   ]
  },
  {
   "cell_type": "code",
   "execution_count": null,
   "metadata": {},
   "outputs": [],
   "source": [
    "x = 5 + 3  # This is fine\n",
    "y=5+3       # This works, but it's harder to read"
   ]
  },
  {
   "cell_type": "markdown",
   "metadata": {},
   "source": [
    "### **2. Whitespace for Indentation (Required!)**\n",
    "Python **does not use curly braces `{}`** like other languages to group code.  \n",
    "Instead, **indentation (whitespace at the beginning of a line) is required** to define blocks of code."
   ]
  },
  {
   "cell_type": "code",
   "execution_count": null,
   "metadata": {},
   "outputs": [],
   "source": [
    "if True:\n",
    "    print(\"This is indented correctly!\")  # Indentation is required"
   ]
  },
  {
   "cell_type": "code",
   "execution_count": null,
   "metadata": {},
   "outputs": [],
   "source": [
    "if True:\n",
    "print(\"This will cause an error!\")  # ❌ IndentationError\n"
   ]
  },
  {
   "cell_type": "markdown",
   "metadata": {},
   "source": [
    "If you forget to indent, Python will give an **IndentationError**."
   ]
  },
  {
   "cell_type": "markdown",
   "metadata": {},
   "source": [
    "### **3. Whitespace in Function and Loop Blocks**\n",
    "When writing functions or loops, **each block of code must be indented consistently**.\n"
   ]
  },
  {
   "cell_type": "code",
   "execution_count": null,
   "metadata": {},
   "outputs": [],
   "source": [
    "def greet():\n",
    "    print(\"Hello\")  # Indented correctly\n",
    "    print(\"Welcome to Python!\")  # Still inside function\n",
    "\n",
    "greet()  # No indentation needed here"
   ]
  },
  {
   "cell_type": "code",
   "execution_count": null,
   "metadata": {},
   "outputs": [],
   "source": [
    "for i in range(3):\n",
    "    print(i)  # Correct indentation inside the loop\n"
   ]
  },
  {
   "cell_type": "markdown",
   "metadata": {},
   "source": [
    "### **4. Avoid Mixing Spaces and Tabs**\n",
    "Python allows both spaces and tabs, but **mixing them causes errors**.  \n",
    "To be safe, always use **4 spaces per indentation level**.\n"
   ]
  },
  {
   "cell_type": "markdown",
   "metadata": {},
   "source": [
    "### **5. Blank Lines for Organization**\n",
    "Use **blank lines** to separate sections of your code and improve readability."
   ]
  },
  {
   "cell_type": "code",
   "execution_count": null,
   "metadata": {},
   "outputs": [],
   "source": [
    "def add(a, b):\n",
    "    return a + b  # Function ends here\n",
    "\n",
    "# Blank line separates the function from the next part of the code\n",
    "result = add(2, 3)\n",
    "print(result)"
   ]
  },
  {
   "cell_type": "markdown",
   "metadata": {},
   "source": [
    "### **Key Takeaways**\n",
    "✅ Use **indentation (4 spaces per level)** to structure code properly.  \n",
    "✅ Avoid mixing **tabs and spaces** to prevent errors.  \n",
    "✅ Use **blank lines** to organize code for readability.  \n",
    "✅ Whitespace matters in Python—misusing it can cause syntax errors!"
   ]
  },
  {
   "cell_type": "markdown",
   "metadata": {},
   "source": [
    "## Comments\n",
    "Anything after the # symbol is a comment. You can start a comment at the beginning of a line, or after code in a line. You are writing comments for others to understand your code."
   ]
  },
  {
   "cell_type": "code",
   "execution_count": 10,
   "metadata": {},
   "outputs": [
    {
     "name": "stdout",
     "output_type": "stream",
     "text": [
      "Hello\n",
      "5 10\n",
      "Hello, Alice!\n"
     ]
    }
   ],
   "source": [
    "# This is a single-line comment. Python skips it when executing the code.\n",
    "print(\"Hello\")  # The rest of this line is a comment explaining my print\n",
    "\n",
    "# Comments can be used to temporarily disable code without deleting it:\n",
    "# print(\"This line won't run\")\n",
    "\n",
    "# Comments help explain complex logic:\n",
    "x = 10\n",
    "y = 5\n",
    "# Swapping values without a temporary variable (Pythonic way)\n",
    "x, y = y, x  # This swaps x and y in one line\n",
    "print(x, y)\n",
    "\n",
    "# Multi-line comments (docstrings) are useful for documentation\n",
    "\"\"\"\n",
    "This is a multi-line comment (technically a string).\n",
    "It's often used for function, class, or module documentation.\n",
    "\"\"\"\n",
    "def greet(name):\n",
    "    \"\"\"This function prints a greeting message.\"\"\"\n",
    "    print(f\"Hello, {name}!\")\n",
    "\n",
    "greet(\"Alice\")\n",
    "\n",
    "# Comments can be used for debugging\n",
    "# Uncomment the next line to debug the variable value\n",
    "# print(\"Debug:\", some_variable)\n"
   ]
  },
  {
   "cell_type": "markdown",
   "metadata": {},
   "source": [
    "## Variables and Output\n",
    "\n",
    "<b>Variables and Assignment:</b> Variables are used to store data so we can reuse it. In Python, you do not need to declare a variable’s type explicitly. A variable is created at the moment you first assign a value to it​. \n",
    "<li>Assignement is done with the = operator</li>\n",
    "<li>LHS = RHS ( The RHS is evaluated and assigned to the left hand side. )</li>\n",
    "<li>Variables are used to store data for later use in a program.</li>\n",
    "For example:"
   ]
  },
  {
   "cell_type": "code",
   "execution_count": 3,
   "metadata": {},
   "outputs": [],
   "source": [
    "message = \"Hello\"\n",
    "x = 10\n",
    "pi = 3.14"
   ]
  },
  {
   "cell_type": "markdown",
   "metadata": {},
   "source": [
    "Here, message is a variable holding a string, x holds an integer, and pi holds a floating-point number. Python uses the assignment operator = to assign values. If you run the above, it won't show anything because we need to print out the output. After these lines, we can use the variables in expressions or print them. Before you run the code below guess what you think it will print."
   ]
  },
  {
   "cell_type": "code",
   "execution_count": 4,
   "metadata": {},
   "outputs": [
    {
     "name": "stdout",
     "output_type": "stream",
     "text": [
      "Hello\n",
      "15\n",
      "6.28\n"
     ]
    }
   ],
   "source": [
    "message = \"Hello\"\n",
    "x = 10\n",
    "pi = 3.14\n",
    "print(message)\n",
    "print(x + 5)\n",
    "print(pi * 2) "
   ]
  },
  {
   "cell_type": "markdown",
   "metadata": {},
   "source": [
    "In Python, variables have dynamic types.\n",
    "This means Python automatically figures out a variable's type based on the value you give it. You can even change a variable's type by giving it a new value later on (but changing types too often can make your code confusing). As you can see in the code below which is \"bad practice\"."
   ]
  },
  {
   "cell_type": "code",
   "execution_count": 5,
   "metadata": {},
   "outputs": [
    {
     "name": "stdout",
     "output_type": "stream",
     "text": [
      "10\n",
      "hello\n",
      "3.14\n"
     ]
    }
   ],
   "source": [
    "x = 10        # Python sees this as an integer (whole number)\n",
    "print(x)\n",
    "x = \"hello\"   # Now Python sees x as a string (text)\n",
    "print(x)\n",
    "x = 3.14      # And now, Python sees x as a float (decimal number)\n",
    "print(x)"
   ]
  },
  {
   "cell_type": "markdown",
   "metadata": {},
   "source": [
    "Python is flexible in this way, but it’s important to keep track of your variable types to avoid confusion."
   ]
  },
  {
   "cell_type": "markdown",
   "metadata": {},
   "source": [
    "We can even combine variables to create new output."
   ]
  },
  {
   "cell_type": "code",
   "execution_count": null,
   "metadata": {},
   "outputs": [],
   "source": [
    "velocity = 50  # moving at 5 miles an hour\n",
    "time = 2       # Traveling for 2 hours\n",
    "\n",
    "distance = velocity * time\n",
    "print(distance)"
   ]
  },
  {
   "cell_type": "markdown",
   "metadata": {},
   "source": [
    "**Naming Rules:**\n",
    "1. The first character must be `_` (underscore) or a letter (`A-Z`, `a-z`).\n",
    "2. Any remaining characters can be digits (`0-9`), underscores (`_`), or letters (`A-Z`, `a-z`).\n",
    "3. There is no length limit, but names should be readable and meaningful.\n",
    "4. A variable name **cannot** be a Python keyword (e.g., `if`, `while`, `def`, `class`, etc.).\n",
    "5. Variable names are **case-sensitive** (`myVar`, `MyVar`, and `myvar` are different)."
   ]
  },
  {
   "cell_type": "code",
   "execution_count": null,
   "metadata": {},
   "outputs": [],
   "source": [
    "### **Examples of Valid Names:**\n",
    "my_variable = 10\n",
    "_varName = \"hello\"\n",
    "count123 = 5\n",
    "PI_VALUE = 3.14"
   ]
  },
  {
   "cell_type": "code",
   "execution_count": null,
   "metadata": {},
   "outputs": [],
   "source": [
    "### **Examples of Invalid Names:**\n",
    "2variable = \"invalid\"  # Cannot start with a number\n",
    "my-variable = 5        # Hyphens are not allowed\n",
    "class = \"reserved\"     # 'class' is a keyword"
   ]
  },
  {
   "cell_type": "markdown",
   "metadata": {},
   "source": [
    "**Best Practices for Naming Variables**\n",
    "- Use **descriptive names** (`student_name` instead of `s`).\n",
    "- Follow **snake_case** for variables (`total_amount` instead of `TotalAmount`).\n",
    "- Use **UPPER_CASE** for constants (`MAX_SCORE = 100`).\n",
    "- Avoid **single-letter variables** (except in loops: `for i in range(5):`).\n",
    "- Keep naming **consistent** throughout your code."
   ]
  },
  {
   "cell_type": "markdown",
   "metadata": {},
   "source": [
    "Which of the following variable names are valid?"
   ]
  },
  {
   "cell_type": "code",
   "execution_count": null,
   "metadata": {},
   "outputs": [],
   "source": [
    "cash_4_car = 2500\n",
    "print(cash_4_car)"
   ]
  },
  {
   "cell_type": "code",
   "execution_count": null,
   "metadata": {},
   "outputs": [],
   "source": [
    "2_legit = 50\n",
    "print(2_legit)"
   ]
  },
  {
   "cell_type": "code",
   "execution_count": null,
   "metadata": {},
   "outputs": [],
   "source": [
    "score% = 90.5\n",
    "print(score%)"
   ]
  },
  {
   "cell_type": "code",
   "execution_count": null,
   "metadata": {},
   "outputs": [],
   "source": [
    "# What prints?\n",
    "velocity = 100\n",
    "Velocity = 150\n",
    "print(velocity)"
   ]
  },
  {
   "cell_type": "markdown",
   "metadata": {},
   "source": [
    "<b>Arithmetic Expressions:</b> Python can act like a calculator. It supports the standard arithmetic operators: \n",
    "\n",
    "| **Operator** | **Function** |\n",
    "|-------------|-------------------------------------------------|\n",
    "| `+`         | Addition (`a + b`) |\n",
    "| `-`         | Subtraction (`a - b`) |\n",
    "| `*`         | Multiplication (`a * b`) |\n",
    "| `/`         | Division (`a / b`) |\n",
    "| `**`        | Exponentiation (`a ** b`) – `2 ** 3` equals `2 * 2 * 2 = 8` |\n",
    "| `//`        | Floor division (quotient only) – `5 // 2` results in `2` |\n",
    "| `%`         | Modulus (remainder) – `12 % 10` evaluates to `2` |\n"
   ]
  },
  {
   "cell_type": "code",
   "execution_count": 6,
   "metadata": {},
   "outputs": [
    {
     "name": "stdout",
     "output_type": "stream",
     "text": [
      "10\n",
      "4\n",
      "21\n",
      "2.3333333333333335\n",
      "2\n",
      "1\n",
      "343\n"
     ]
    }
   ],
   "source": [
    "a = 7\n",
    "b = 3\n",
    "print(a + b)   \n",
    "print(a - b) \n",
    "print(a * b) \n",
    "print(a / b)  \n",
    "print(a // b)\n",
    "print(a % b)   \n",
    "print(a ** b)   "
   ]
  },
  {
   "cell_type": "markdown",
   "metadata": {},
   "source": [
    "**More Examples**"
   ]
  },
  {
   "cell_type": "code",
   "execution_count": null,
   "metadata": {},
   "outputs": [],
   "source": [
    "a = 5\n",
    "b = 12\n",
    "c = a + b\n",
    "print(c)"
   ]
  },
  {
   "cell_type": "code",
   "execution_count": null,
   "metadata": {},
   "outputs": [],
   "source": [
    "a = 5\n",
    "b = 3\n",
    "\n",
    "c = a - b\n",
    "print(c)"
   ]
  },
  {
   "cell_type": "code",
   "execution_count": null,
   "metadata": {},
   "outputs": [],
   "source": [
    "a = 2\n",
    "b = 3\n",
    "\n",
    "c = a * b\n",
    "print(c)"
   ]
  },
  {
   "cell_type": "code",
   "execution_count": null,
   "metadata": {},
   "outputs": [],
   "source": [
    "a = 10\n",
    "b = 3\n",
    "\n",
    "value = a / b\n",
    "quotient = a // b\n",
    "remainder = a % b\n",
    "print(value)\n",
    "print(quotient)\n",
    "print(remainder)"
   ]
  },
  {
   "cell_type": "code",
   "execution_count": null,
   "metadata": {},
   "outputs": [],
   "source": [
    "a = 10\n",
    "b = 10 ** 3\n",
    "print(b)"
   ]
  },
  {
   "cell_type": "code",
   "execution_count": null,
   "metadata": {},
   "outputs": [],
   "source": [
    "eggs = int(input(\"How many eggs do you have? ==> \"))\n",
    "\n",
    "# get cartons\n",
    "cartons = eggs // 12\n",
    "left_over = eggs % 12\n",
    "\n",
    "print(\"You have\", cartons, \" cartons and\", left_over, \"eggs left over\")"
   ]
  },
  {
   "cell_type": "markdown",
   "metadata": {},
   "source": [
    "Python respects order of operations (PEMDAS/BODMAS). Use parentheses ( ) to group operations and make the order explicit when needed. For example, 2 + 3 * 5 yields 17 (multiplication happens before addition), while (2 + 3) * 5 yields 25."
   ]
  },
  {
   "cell_type": "markdown",
   "metadata": {},
   "source": [
    "## Data Types and Type Function\n"
   ]
  },
  {
   "cell_type": "markdown",
   "metadata": {},
   "source": [
    "**Data Types**\n",
    "Programming languages handle different data types, each with specific uses that model our own thinking.\n",
    "\n",
    "| **Data Type**       | **Description** |\n",
    "|---------------------|----------------------------------------------------|\n",
    "| `str` (string)      | A sequence of characters representing text. Can begin and end with `\"` or `'`. |\n",
    "| `int` (integer)     | A whole number without a decimal portion. |\n",
    "| `float`            | A floating-point number, allowing decimal precision. |\n",
    "| `bool` (Boolean)    | Represents two states: `True` or `False`, used for logic. |\n",
    "| `list`             | A collection of ordered, mutable objects. |\n",
    "| `dict` (dictionary) | A collection of key-value pairs for storing structured data. |\n",
    "| `etc`              | Other data types exist, such as tuples, sets, and complex numbers. |\n",
    "\n",
    "---\n",
    "\n",
    "**Literals vs. Variables**\n",
    "A **literal** is a fixed value directly written in code. It does not change.  \n",
    "A **variable** stores a value, which can vary during program execution.\n",
    "\n",
    "**Examples:**\n",
    "```python\n",
    "# Literals\n",
    "42         # Integer literal\n",
    "3.14       # Float literal\n",
    "\"Hello\"    # String literal\n",
    "True       # Boolean literal\n",
    "\n",
    "# Variables\n",
    "x = 42\n",
    "pi = 3.14\n",
    "greeting = \"Hello\"\n",
    "is_valid = True\n"
   ]
  },
  {
   "cell_type": "markdown",
   "metadata": {},
   "source": [
    "**The type function**\n",
    "\n",
    "The type function helps you identify what data type a variable is"
   ]
  },
  {
   "cell_type": "code",
   "execution_count": null,
   "metadata": {},
   "outputs": [],
   "source": [
    "x = '5'\n",
    "type(x)\n",
    "\n",
    "x = \"hello\"\n",
    "type(x)"
   ]
  },
  {
   "cell_type": "markdown",
   "metadata": {},
   "source": [
    "**Why the `type()` Function is Important**\n",
    "\n",
    "In Python, every piece of data has a **type** that determines what you can do with it. The `type()` function helps us check and understand the type of a value or variable.\n",
    "\n",
    "**Why is this useful?**\n",
    "- **Understanding Data Types** – Python automatically assigns a type to every value. `type()` lets us confirm what type we’re working with.\n",
    "- **Avoiding Errors** – Certain operations only work with specific types. Knowing the type helps us prevent mistakes.\n",
    "- **Preparing for User Input** – When we start using `input()`, we will need to check and possibly convert the type of the input.\n"
   ]
  },
  {
   "cell_type": "markdown",
   "metadata": {},
   "source": [
    "## Integers\n",
    "\n",
    "Integers are a numeric value and do not contain any decimal precision."
   ]
  },
  {
   "cell_type": "code",
   "execution_count": 4,
   "metadata": {},
   "outputs": [
    {
     "name": "stdout",
     "output_type": "stream",
     "text": [
      "You will travel 150 in 2.5 hours with the current rate of  60 mph\n"
     ]
    }
   ],
   "source": [
    "speed = 60     # velocity in miles per hour\n",
    "distance = 150 # how far we need to travel for our trip\n",
    "\n",
    "time = distance / speed  # How long it will take us\n",
    "print(\"You will travel\", distance, \"in\", time, \"hours with the current rate of \", speed, \"mph\")"
   ]
  },
  {
   "cell_type": "markdown",
   "metadata": {},
   "source": [
    "## Float\n",
    "\n",
    "Floats are numeric values with a precision"
   ]
  },
  {
   "cell_type": "code",
   "execution_count": 5,
   "metadata": {},
   "outputs": [
    {
     "name": "stdout",
     "output_type": "stream",
     "text": [
      "<class 'float'>\n",
      "3.14\n"
     ]
    }
   ],
   "source": [
    "pi = 3.14\n",
    "print( type(pi))\n",
    "print(pi)"
   ]
  },
  {
   "cell_type": "markdown",
   "metadata": {},
   "source": [
    "## Strings\n",
    "\n",
    "Strings can begin with ' or \", but must end with the same delimeter/character."
   ]
  },
  {
   "cell_type": "code",
   "execution_count": null,
   "metadata": {},
   "outputs": [],
   "source": [
    "name = \"Alice\"\n",
    "job = 'Programmer'\n",
    "\n",
    "# Can't mix and match\n",
    "address = \"Green Valley'"
   ]
  },
  {
   "cell_type": "code",
   "execution_count": null,
   "metadata": {},
   "outputs": [],
   "source": [
    "# What if we need to use the delimeter symbol\n",
    "\n",
    "restaurant = 'Tom's Restaurant'\n"
   ]
  },
  {
   "cell_type": "code",
   "execution_count": 3,
   "metadata": {},
   "outputs": [
    {
     "name": "stdout",
     "output_type": "stream",
     "text": [
      "\n",
      "Once upon a time, there was a cat named Whiskers.\n",
      "\n",
      "Tom's Restaurant\n"
     ]
    }
   ],
   "source": [
    "# Use the backslash to escape the delimeter\n",
    "restaurant = 'Tom\\'s Restaurant'\n",
    "\n",
    "# Triple quotes allow you to use the delimeter without escaping\n",
    "story = \"\"\"\n",
    "Once upon a time, there was a cat named Whiskers.\n",
    "\"\"\"\n",
    "\n",
    "print(story)\n",
    "print(restaurant)\n"
   ]
  },
  {
   "cell_type": "markdown",
   "metadata": {},
   "source": [
    "## Input\n",
    "We need some way to get information from the user into our program. The input function to the rescue.\n",
    "\n",
    "The format is\n",
    "\n",
    "input( [prompt]) -> string\n",
    "\n",
    "**input always returns a string, no matter what you are asking for. You must convert it into the data type you want**"
   ]
  },
  {
   "cell_type": "code",
   "execution_count": 11,
   "metadata": {},
   "outputs": [
    {
     "name": "stdout",
     "output_type": "stream",
     "text": [
      "\n"
     ]
    }
   ],
   "source": [
    "name = input(\"Enter your name\")\n",
    "print(name)"
   ]
  },
  {
   "cell_type": "code",
   "execution_count": 12,
   "metadata": {},
   "outputs": [
    {
     "name": "stdout",
     "output_type": "stream",
     "text": [
      "You are  years old.\n"
     ]
    }
   ],
   "source": [
    "# Input can store different types of data, not just strings\n",
    "age = input(\"Enter your age: \")  # By default, input() returns a string\n",
    "print(\"You are\", age, \"years old.\")"
   ]
  },
  {
   "cell_type": "markdown",
   "metadata": {},
   "source": [
    "**The int() function**\n",
    "\n",
    "What do we do if we have a string, or another data type that we want to be an integer?\n",
    "\n",
    "We use the int() function to convert a value.\n",
    "\n",
    "variable = int( value_to_convert )"
   ]
  },
  {
   "cell_type": "code",
   "execution_count": null,
   "metadata": {},
   "outputs": [],
   "source": [
    "age = input(\"What is your age?\")\n",
    "age = int(age)\n",
    "\n",
    "# age is what datatype?\n",
    "to_100 = 100 - age\n",
    "\n",
    "print(\"In\", to_100, \"years you will be 100\")"
   ]
  },
  {
   "cell_type": "code",
   "execution_count": null,
   "metadata": {},
   "outputs": [],
   "source": [
    "# Type conversion: Converting user input into an integer\n",
    "age = int(input(\"Enter your age as a number: \"))  # Convert input to an integer\n",
    "next_year = age + 1\n",
    "print(\"Next year, you will be\", next_year, \"years old.\")"
   ]
  },
  {
   "cell_type": "markdown",
   "metadata": {},
   "source": [
    "**The float() Function**\n",
    "\n",
    "To convert another data type into a float/decimal, we have the float function.\n",
    "\n",
    "value = float( value_to_convert )"
   ]
  },
  {
   "cell_type": "code",
   "execution_count": null,
   "metadata": {},
   "outputs": [],
   "source": [
    "radius_str = input(\"Enter the radius of the circle \")\n",
    "radius_flt = float(radius_str)\n",
    "\n",
    "print(type(radius_flt))"
   ]
  },
  {
   "cell_type": "code",
   "execution_count": null,
   "metadata": {},
   "outputs": [],
   "source": [
    "# Using input with formatted strings (f-strings)\n",
    "favorite_color = input(\"What's your favorite color? \")\n",
    "print(f\"Wow! {favorite_color} is a great color!\")"
   ]
  },
  {
   "cell_type": "code",
   "execution_count": null,
   "metadata": {},
   "outputs": [],
   "source": [
    "# Input validation example\n",
    "while True:\n",
    "    try:\n",
    "        num = float(input(\"Enter a number: \"))  # Ensures input is a valid number\n",
    "        print(\"You entered:\", num)\n",
    "        break  # Exit the loop if valid input is given\n",
    "    except ValueError:\n",
    "        print(\"That's not a valid number. Please try again!\")\n",
    "\n",
    "# Demonstrating multi-line input (press Enter to finish each line, use Ctrl+D/Ctrl+Z to end)\n",
    "print(\"Enter a short bio (press Enter after each line, Ctrl+D to finish):\")\n",
    "import sys\n",
    "bio = sys.stdin.read()  # Reads multiple lines until EOF\n",
    "print(\"Here's your bio:\\n\", bio)"
   ]
  },
  {
   "cell_type": "markdown",
   "metadata": {},
   "source": [
    "## **Types of Modules in Python**\n",
    "Python allows us to use **modules**, which are collections of code that we can bring into our programs to add extra functionality. There are three main types of modules:\n",
    "\n",
    "1. **Built-in Modules** – These come with Python by default.  \n",
    "   - Example: `math` (provides advanced math functions).  \n",
    "2. **Third-Party Modules** – These are created by others and need to be downloaded before use.  \n",
    "   - Example: `numpy` (used for numbers and arrays).  \n",
    "3. **Custom Modules** – These are modules you write yourself to organize and reuse your own code.  \n",
    "\n",
    "### **How to Import a Module**\n",
    "To use a module, we import it using the `import` keyword:\n",
    "\n"
   ]
  },
  {
   "cell_type": "code",
   "execution_count": null,
   "metadata": {},
   "outputs": [],
   "source": [
    "import math  # Import the built-in math module\n",
    "print(math.sqrt(16))  # Use a function from the module"
   ]
  },
  {
   "cell_type": "code",
   "execution_count": null,
   "metadata": {},
   "outputs": [],
   "source": [
    "import math\n",
    "help(math)"
   ]
  },
  {
   "cell_type": "markdown",
   "metadata": {},
   "source": [
    "## Mini Exercises:\n",
    "Exercise 1: Use Python as a calculator in the REPL or a script. Compute 5 * (8 + 2) - 3. What result do you get?\n"
   ]
  },
  {
   "cell_type": "code",
   "execution_count": null,
   "metadata": {},
   "outputs": [],
   "source": [
    "# Exercise 1: Using Python as a calculator\n",
    "# Compute 5 * (8 + 2) - 3. What result do you get?\n",
    "\n",
    "# Your answer here:\n"
   ]
  },
  {
   "cell_type": "markdown",
   "metadata": {},
   "source": [
    "Exercise 2: Create two variables, length and width, assign them numerical values, then calculate the area of a rectangle (length × width) and print the result."
   ]
  },
  {
   "cell_type": "code",
   "execution_count": null,
   "metadata": {},
   "outputs": [],
   "source": [
    "# Exercise 2: Calculate the area of a rectangle\n",
    "# Create two variables, length and width, assign them numerical values\n",
    "# Then calculate the area (length * width) and print the result.\n",
    "\n",
    "# Your answer here:"
   ]
  },
  {
   "cell_type": "markdown",
   "metadata": {},
   "source": [
    "Exercise 3: Assign the string \"Python\" to a variable lang. Then create another variable excitement which is lang plus another string \" is cool!\". Print excitement."
   ]
  },
  {
   "cell_type": "code",
   "execution_count": 7,
   "metadata": {},
   "outputs": [
    {
     "name": "stdout",
     "output_type": "stream",
     "text": [
      "Python is cool!\n"
     ]
    }
   ],
   "source": [
    "# Exercise 3: String Concatenation\n",
    "# Assign \"Python\" to a variable lang\n",
    "# Create another variable excitement which adds \" is cool!\" to lang\n",
    "# Print excitement\n",
    "\n",
    "# Your answer here:"
   ]
  },
  {
   "cell_type": "markdown",
   "metadata": {},
   "source": [
    "# Reference and More Info"
   ]
  },
  {
   "cell_type": "markdown",
   "metadata": {},
   "source": [
    "## **Understanding Keywords in Python**\n",
    "\n",
    "### **What Are Keywords?**  \n",
    "**Keywords** are special words that Python **reserves** because they have a specific meaning.  \n",
    "You **cannot** use them as variable names since Python uses them to understand your code.\n",
    "\n",
    "### **Why Are Keywords Important?**  \n",
    "- They **define** how Python works (e.g., `if`, `for`, `while`).\n",
    "- They **cannot be changed**—they always mean the same thing.\n",
    "- Using them as variable names will cause an **error**.\n",
    "\n",
    "### **Common Python Keywords**  \n",
    "| **Keyword**  | **What It Does** |\n",
    "|-------------|------------------|\n",
    "| `if`, `else`, `elif` | Conditional statements for decision-making. |\n",
    "| `for`, `while` | Loops to repeat actions. |\n",
    "| `def`, `return` | Define and return values from functions. |\n",
    "| `import` | Bring in extra code from a module. |\n",
    "| `and`, `or`, `not` | Logical operators for conditions. |\n",
    "| `True`, `False`, `None` | Special values in Python. |\n",
    "\n",
    "### **How to See All Keywords in Python**  \n",
    "Use this command to check the full list of Python keywords:  "
   ]
  },
  {
   "cell_type": "code",
   "execution_count": null,
   "metadata": {},
   "outputs": [],
   "source": [
    "import keyword\n",
    "print(keyword.kwlist)"
   ]
  },
  {
   "cell_type": "markdown",
   "metadata": {},
   "source": [
    "### **Key Takeaways**\n",
    "- ✅ **Keywords are reserved** and cannot be used as variable names.  \n",
    "- ✅ They **structure and control** how Python runs code.  \n",
    "- ✅ If you try to use a keyword as a variable, Python will give an **error**.  \n",
    "- ✅ Use `import keyword` to see all Python keywords.  \n"
   ]
  },
  {
   "cell_type": "markdown",
   "metadata": {},
   "source": [
    "# **Understanding Augmented Assignments in Python**\n",
    "\n",
    "### **What Are Augmented Assignments?**\n",
    "Augmented assignments are **shortcut operators** that update a variable's value **in place**.  \n",
    "Instead of writing the full expression, Python lets us **combine an operation with assignment** to make the code shorter and easier to read.\n",
    "\n",
    "---\n",
    "\n",
    "### **How Augmented Assignments Work**\n",
    "| **Shortcut**   | **Equivalent To** |\n",
    "|---------------|------------------|\n",
    "| `velocity += 5` | `velocity = velocity + 5` |\n",
    "| `velocity -= 3` | `velocity = velocity - 3` |\n",
    "| `velocity /= 5` | `velocity = velocity / 5` |\n",
    "| `velocity *= 5` | `velocity = velocity * 5` |\n",
    "\n",
    "---\n",
    "\n",
    "### **Why Use Augmented Assignments?**\n",
    "✅ **Less typing** – Makes code more concise.  \n",
    "✅ **Easier to read** – Clearly shows that a variable is being updated.  \n",
    "✅ **More efficient** – Python optimizes these operations internally.\n",
    "\n",
    "---\n",
    "\n",
    "### **Example Usage**\n"
   ]
  },
  {
   "cell_type": "code",
   "execution_count": null,
   "metadata": {},
   "outputs": [],
   "source": [
    "score = 10\n",
    "score += 5  # Equivalent to: score = score + 5\n",
    "print(score)  # Output: 15\n",
    "\n",
    "distance = 100\n",
    "distance /= 2  # Equivalent to: distance = distance / 2\n",
    "print(distance)  # Output: 50.0"
   ]
  },
  {
   "cell_type": "markdown",
   "metadata": {},
   "source": [
    "### **Key Takeaways**\n",
    "- ✅ Augmented assignments **update a variable in place** using `+=`, `-=`, `*=`, `/=`, and more.  \n",
    "- ✅ They make code **shorter, clearer, and more readable**.  \n",
    "- ✅ They work with **addition, subtraction, multiplication, division, and other operations**.  \n"
   ]
  },
  {
   "cell_type": "markdown",
   "metadata": {},
   "source": [
    "## **Understanding Built-in Python Functions**\n",
    "\n",
    "### **What Are Built-in Functions?**\n",
    "Built-in functions are **predefined functions** that come with Python.  \n",
    "They help us perform **common tasks quickly** without writing extra code.  \n",
    "We can **use them directly** without needing to import anything.\n",
    "\n",
    "---\n",
    "\n",
    "### **Common Built-in Functions and Their Uses**\n",
    "| **Function**    | **What It Does** |\n",
    "|---------------|------------------------------------------------|\n",
    "| `print()`     | Displays output on the screen. |\n",
    "| `input()`     | Gets user input as a string. |\n",
    "| `len()`       | Returns the length of a string, list, or other collection. |\n",
    "| `type()`      | Returns the type of a value (e.g., `int`, `str`, `float`). |\n",
    "| `int()`, `float()`, `str()` | Convert values to integers, floats, or strings. |\n",
    "| `round()`     | Rounds a number to the nearest integer or given decimal places. |\n",
    "| `abs()`       | Returns the absolute value of a number. |\n",
    "| `sum()`       | Adds up all numbers in a list or collection. |\n",
    "| `max()`, `min()` | Find the largest or smallest value in a list. |\n",
    "| `sorted()`    | Returns a sorted version of a list. |\n",
    "\n",
    "---\n",
    "\n",
    "### **Why Use Built-in Functions?**\n",
    "✅ **Saves time** – No need to write code from scratch.  \n",
    "✅ **More efficient** – Python functions are optimized for speed.  \n",
    "✅ **Easier to read** – Code looks cleaner and simpler.\n",
    "\n",
    "---\n",
    "\n",
    "### **Example Usage**"
   ]
  },
  {
   "cell_type": "code",
   "execution_count": 6,
   "metadata": {},
   "outputs": [
    {
     "name": "stdout",
     "output_type": "stream",
     "text": [
      "4\n",
      "10\n",
      "22\n"
     ]
    },
    {
     "ename": "KeyboardInterrupt",
     "evalue": "Interrupted by user",
     "output_type": "error",
     "traceback": [
      "\u001b[31m---------------------------------------------------------------------------\u001b[39m",
      "\u001b[31mKeyboardInterrupt\u001b[39m                         Traceback (most recent call last)",
      "\u001b[36mCell\u001b[39m\u001b[36m \u001b[39m\u001b[32mIn[6]\u001b[39m\u001b[32m, line 7\u001b[39m\n\u001b[32m      4\u001b[39m \u001b[38;5;28mprint\u001b[39m(\u001b[38;5;28mmax\u001b[39m(numbers))  \u001b[38;5;66;03m# Output: 10\u001b[39;00m\n\u001b[32m      5\u001b[39m \u001b[38;5;28mprint\u001b[39m(\u001b[38;5;28msum\u001b[39m(numbers))  \u001b[38;5;66;03m# Output: 22\u001b[39;00m\n\u001b[32m----> \u001b[39m\u001b[32m7\u001b[39m user_name = \u001b[38;5;28;43minput\u001b[39;49m\u001b[43m(\u001b[49m\u001b[33;43m\"\u001b[39;49m\u001b[33;43mEnter your name: \u001b[39;49m\u001b[33;43m\"\u001b[39;49m\u001b[43m)\u001b[49m  \u001b[38;5;66;03m# Gets input from the user\u001b[39;00m\n\u001b[32m      8\u001b[39m \u001b[38;5;28mprint\u001b[39m(\u001b[33m\"\u001b[39m\u001b[33mHello,\u001b[39m\u001b[33m\"\u001b[39m, user_name)\n",
      "\u001b[36mFile \u001b[39m\u001b[32m~\\AppData\\Roaming\\Python\\Python313\\site-packages\\ipykernel\\kernelbase.py:1282\u001b[39m, in \u001b[36mKernel.raw_input\u001b[39m\u001b[34m(self, prompt)\u001b[39m\n\u001b[32m   1280\u001b[39m     msg = \u001b[33m\"\u001b[39m\u001b[33mraw_input was called, but this frontend does not support input requests.\u001b[39m\u001b[33m\"\u001b[39m\n\u001b[32m   1281\u001b[39m     \u001b[38;5;28;01mraise\u001b[39;00m StdinNotImplementedError(msg)\n\u001b[32m-> \u001b[39m\u001b[32m1282\u001b[39m \u001b[38;5;28;01mreturn\u001b[39;00m \u001b[38;5;28;43mself\u001b[39;49m\u001b[43m.\u001b[49m\u001b[43m_input_request\u001b[49m\u001b[43m(\u001b[49m\n\u001b[32m   1283\u001b[39m \u001b[43m    \u001b[49m\u001b[38;5;28;43mstr\u001b[39;49m\u001b[43m(\u001b[49m\u001b[43mprompt\u001b[49m\u001b[43m)\u001b[49m\u001b[43m,\u001b[49m\n\u001b[32m   1284\u001b[39m \u001b[43m    \u001b[49m\u001b[38;5;28;43mself\u001b[39;49m\u001b[43m.\u001b[49m\u001b[43m_parent_ident\u001b[49m\u001b[43m[\u001b[49m\u001b[33;43m\"\u001b[39;49m\u001b[33;43mshell\u001b[39;49m\u001b[33;43m\"\u001b[39;49m\u001b[43m]\u001b[49m\u001b[43m,\u001b[49m\n\u001b[32m   1285\u001b[39m \u001b[43m    \u001b[49m\u001b[38;5;28;43mself\u001b[39;49m\u001b[43m.\u001b[49m\u001b[43mget_parent\u001b[49m\u001b[43m(\u001b[49m\u001b[33;43m\"\u001b[39;49m\u001b[33;43mshell\u001b[39;49m\u001b[33;43m\"\u001b[39;49m\u001b[43m)\u001b[49m\u001b[43m,\u001b[49m\n\u001b[32m   1286\u001b[39m \u001b[43m    \u001b[49m\u001b[43mpassword\u001b[49m\u001b[43m=\u001b[49m\u001b[38;5;28;43;01mFalse\u001b[39;49;00m\u001b[43m,\u001b[49m\n\u001b[32m   1287\u001b[39m \u001b[43m\u001b[49m\u001b[43m)\u001b[49m\n",
      "\u001b[36mFile \u001b[39m\u001b[32m~\\AppData\\Roaming\\Python\\Python313\\site-packages\\ipykernel\\kernelbase.py:1325\u001b[39m, in \u001b[36mKernel._input_request\u001b[39m\u001b[34m(self, prompt, ident, parent, password)\u001b[39m\n\u001b[32m   1322\u001b[39m \u001b[38;5;28;01mexcept\u001b[39;00m \u001b[38;5;167;01mKeyboardInterrupt\u001b[39;00m:\n\u001b[32m   1323\u001b[39m     \u001b[38;5;66;03m# re-raise KeyboardInterrupt, to truncate traceback\u001b[39;00m\n\u001b[32m   1324\u001b[39m     msg = \u001b[33m\"\u001b[39m\u001b[33mInterrupted by user\u001b[39m\u001b[33m\"\u001b[39m\n\u001b[32m-> \u001b[39m\u001b[32m1325\u001b[39m     \u001b[38;5;28;01mraise\u001b[39;00m \u001b[38;5;167;01mKeyboardInterrupt\u001b[39;00m(msg) \u001b[38;5;28;01mfrom\u001b[39;00m\u001b[38;5;250m \u001b[39m\u001b[38;5;28;01mNone\u001b[39;00m\n\u001b[32m   1326\u001b[39m \u001b[38;5;28;01mexcept\u001b[39;00m \u001b[38;5;167;01mException\u001b[39;00m:\n\u001b[32m   1327\u001b[39m     \u001b[38;5;28mself\u001b[39m.log.warning(\u001b[33m\"\u001b[39m\u001b[33mInvalid Message:\u001b[39m\u001b[33m\"\u001b[39m, exc_info=\u001b[38;5;28;01mTrue\u001b[39;00m)\n",
      "\u001b[31mKeyboardInterrupt\u001b[39m: Interrupted by user"
     ]
    }
   ],
   "source": [
    "numbers = [3, 10, 7, 2]\n",
    "\n",
    "print(len(numbers))  # Output: 4\n",
    "print(max(numbers))  # Output: 10\n",
    "print(sum(numbers))  # Output: 22\n",
    "\n",
    "user_name = input(\"Enter your name: \")  # Gets input from the user\n",
    "print(\"Hello,\", user_name)"
   ]
  }
 ],
 "metadata": {
  "kernelspec": {
   "display_name": "Python 3",
   "language": "python",
   "name": "python3"
  },
  "language_info": {
   "codemirror_mode": {
    "name": "ipython",
    "version": 3
   },
   "file_extension": ".py",
   "mimetype": "text/x-python",
   "name": "python",
   "nbconvert_exporter": "python",
   "pygments_lexer": "ipython3",
   "version": "3.13.2"
  }
 },
 "nbformat": 4,
 "nbformat_minor": 2
}
